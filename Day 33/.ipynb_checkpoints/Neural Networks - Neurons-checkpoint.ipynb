{
 "cells": [
  {
   "cell_type": "markdown",
   "metadata": {
    "colab_type": "text",
    "id": "9TMDqpecwsS6"
   },
   "source": [
    "# Day 33"
   ]
  },
  {
   "cell_type": "markdown",
   "metadata": {
    "colab_type": "text",
    "id": "5zXAdiASwl59"
   },
   "source": [
    "### Neural Networks 101"
   ]
  },
  {
   "cell_type": "markdown",
   "metadata": {
    "colab_type": "text",
    "id": "vte6m8o45uaA"
   },
   "source": [
    "#### Designing Logic Gates using Neurons"
   ]
  },
  {
   "cell_type": "code",
   "execution_count": 0,
   "metadata": {
    "colab": {},
    "colab_type": "code",
    "id": "y3Z6IKkM2yNW"
   },
   "outputs": [],
   "source": [
    "import math\n",
    "import numpy as np\n",
    "import matplotlib.pyplot as plt"
   ]
  },
  {
   "cell_type": "markdown",
   "metadata": {
    "colab_type": "text",
    "id": "3s8vxI1wDyw0"
   },
   "source": [
    "First we define a Generic class which will act as a single Neuron.<br>\n",
    "When we pass the weights and bias to this class its object will act as some logic gate."
   ]
  },
  {
   "cell_type": "code",
   "execution_count": 0,
   "metadata": {
    "colab": {},
    "colab_type": "code",
    "id": "WXPk5i1cwlHO"
   },
   "outputs": [],
   "source": [
    "class Logic_gate:\n",
    "    def __init__(self, w1, w2, bias):\n",
    "        self.w1 = w1\n",
    "        self.w2 = w2\n",
    "        self.bias = bias\n",
    "        self.output = np.zeros((2,2), dtype='int8')\n",
    "        self.logic()\n",
    "\n",
    "    def sigmoid(self, x):\n",
    "        return round(1/(1 + math.exp(-x)), 0)\n",
    "\n",
    "    def logic(self):\n",
    "        for x1, x2 in [(0, 0), (0, 1), (1, 0), (1, 1)]:\n",
    "            self.output[x1][x2] = self.sigmoid(self.w1*x1 + self.w2*x2 + self.bias)\n",
    "\n",
    "    def eval(self, x1, x2=None):\n",
    "        if x2 == None:\n",
    "            x2 = x1\n",
    "        \n",
    "        return self.output[x1][x2]\n",
    "        "
   ]
  },
  {
   "cell_type": "markdown",
   "metadata": {
    "colab_type": "text",
    "id": "bLpjpaT1Gz3n"
   },
   "source": [
    "Now as we have our generic logic_gate class working as a single neuron, now the only thing that we have to worry is the value of weights and bias to the neuron's input.<br>There are infinite number of possibilites for our weights and bias but those all will have a same pattern (which we have to find!)."
   ]
  },
  {
   "cell_type": "code",
   "execution_count": 128,
   "metadata": {
    "colab": {
     "base_uri": "https://localhost:8080/",
     "height": 87
    },
    "colab_type": "code",
    "id": "0Ga_pEEy9zPu",
    "outputId": "9bee1a95-44bf-40d3-8ba4-1e6d3f8e35b8"
   },
   "outputs": [
    {
     "name": "stdout",
     "output_type": "stream",
     "text": [
      "0 0 0\n",
      "0 1 1\n",
      "1 0 1\n",
      "1 1 1\n"
     ]
    }
   ],
   "source": [
    "OR = Logic_gate(20, 20, -10)\n",
    "for x1, x2 in [(0, 0), (0, 1), (1, 0), (1, 1)]:\n",
    "    print(x1, x2, OR.eval(x1, x2))"
   ]
  },
  {
   "cell_type": "markdown",
   "metadata": {
    "colab_type": "text",
    "id": "AAJ1fikJFIOM"
   },
   "source": [
    "As we can see our OR Gate results are as expected. So we can proceed to design the remaining gates..."
   ]
  },
  {
   "cell_type": "code",
   "execution_count": 129,
   "metadata": {
    "colab": {
     "base_uri": "https://localhost:8080/",
     "height": 87
    },
    "colab_type": "code",
    "id": "axRg5JO3_-7T",
    "outputId": "652943e1-78c7-4a91-eb24-9247afbb3375"
   },
   "outputs": [
    {
     "name": "stdout",
     "output_type": "stream",
     "text": [
      "0 0 0\n",
      "0 1 0\n",
      "1 0 0\n",
      "1 1 1\n"
     ]
    }
   ],
   "source": [
    "AND = Logic_gate(20, 20, -30)\n",
    "for x1, x2 in [(0, 0), (0, 1), (1, 0), (1, 1)]:\n",
    "    print(x1, x2, AND.eval(x1, x2))"
   ]
  },
  {
   "cell_type": "code",
   "execution_count": 130,
   "metadata": {
    "colab": {
     "base_uri": "https://localhost:8080/",
     "height": 52
    },
    "colab_type": "code",
    "id": "EVpJ2uSgGoDd",
    "outputId": "3f7f41d0-f496-494a-88ee-0a28f98f9dd2"
   },
   "outputs": [
    {
     "name": "stdout",
     "output_type": "stream",
     "text": [
      "0 1\n",
      "1 0\n"
     ]
    }
   ],
   "source": [
    "NOT = Logic_gate(-10, 0, 10)\n",
    "for x1, x2 in [(0, 0), (1, 1)]:\n",
    "    print(x1, NOT.eval(x1))"
   ]
  },
  {
   "cell_type": "code",
   "execution_count": 131,
   "metadata": {
    "colab": {
     "base_uri": "https://localhost:8080/",
     "height": 87
    },
    "colab_type": "code",
    "id": "coPfAA1jOQpk",
    "outputId": "a72fa012-95f1-4d78-8ca5-2089695bab2e"
   },
   "outputs": [
    {
     "name": "stdout",
     "output_type": "stream",
     "text": [
      "0 0 1\n",
      "0 1 1\n",
      "1 0 1\n",
      "1 1 0\n"
     ]
    }
   ],
   "source": [
    "NAND = Logic_gate(-20, -20, 30)\n",
    "for x1, x2 in [(0, 0), (0, 1), (1, 0), (1, 1)]:\n",
    "    print(x1, x2, NAND.eval(x1, x2))"
   ]
  },
  {
   "cell_type": "code",
   "execution_count": 132,
   "metadata": {
    "colab": {
     "base_uri": "https://localhost:8080/",
     "height": 87
    },
    "colab_type": "code",
    "id": "9E6HzWh7PHG2",
    "outputId": "abe06662-9ad6-4864-b5b8-a00e207c6d5c"
   },
   "outputs": [
    {
     "name": "stdout",
     "output_type": "stream",
     "text": [
      "0 0 1\n",
      "0 1 0\n",
      "1 0 0\n",
      "1 1 0\n"
     ]
    }
   ],
   "source": [
    "NOR = Logic_gate(-20, -20, 10)\n",
    "for x1, x2 in [(0, 0), (0, 1), (1, 0), (1, 1)]:\n",
    "    print(x1, x2, NOR.eval(x1, x2))"
   ]
  },
  {
   "cell_type": "markdown",
   "metadata": {
    "colab_type": "text",
    "id": "rB3xtQZcPSx8"
   },
   "source": [
    "we have successfully implpemented 'OR', 'AND', 'NOT', 'NAND' and 'NOR' Gates through our neuron. But the problem is with the 'EXOR' and 'EX-NOR' Gates, these 2 can't be produce using one neuron.<br>\n",
    "\n",
    "So to get these gates we must implement them through our **Universal Gates** (NAND or NOR). But First we will try to apply all other simple gates through Universal gates."
   ]
  },
  {
   "cell_type": "markdown",
   "metadata": {
    "colab_type": "text",
    "id": "U5sRz8rASGNr"
   },
   "source": [
    "<h4> Designing NOT Gate using NAND Gate.</h4>\n",
    "An NOT Gate is a result of a NAND Gate with its both inputs with same input (Shorted)."
   ]
  },
  {
   "cell_type": "code",
   "execution_count": 133,
   "metadata": {
    "colab": {
     "base_uri": "https://localhost:8080/",
     "height": 52
    },
    "colab_type": "code",
    "id": "_jIOLRKRPNUC",
    "outputId": "749b3be7-eec5-410a-cc1b-9330f359a15b"
   },
   "outputs": [
    {
     "name": "stdout",
     "output_type": "stream",
     "text": [
      "0 1\n",
      "1 0\n"
     ]
    }
   ],
   "source": [
    "NAND = Logic_gate(-20, -20, 30)  # <- Implementing a NAND gate as usual\n",
    "\n",
    "for x in (0, 1):\n",
    "    NOT_ = NAND.eval(x, x) # Here 'NOT_' is not any object but it is holding the evaluation of current input to our NAND gate\n",
    "    print(x, NOT_)\n"
   ]
  },
  {
   "cell_type": "markdown",
   "metadata": {
    "colab_type": "text",
    "id": "sx7LyMz3T-Ib"
   },
   "source": [
    "<h4> Designing AND Gate using NAND Gate.</h4>\n",
    "An AND Gate can be implemente using the above NOT implementation to negate the output of another NAND, Thus we need 2 NAND Gates here..."
   ]
  },
  {
   "cell_type": "code",
   "execution_count": 139,
   "metadata": {
    "colab": {
     "base_uri": "https://localhost:8080/",
     "height": 87
    },
    "colab_type": "code",
    "id": "vskbHiOwTQ9v",
    "outputId": "4a820ce9-44d2-4b18-ea67-5106fb521a37"
   },
   "outputs": [
    {
     "name": "stdout",
     "output_type": "stream",
     "text": [
      "0 0 0\n",
      "0 1 0\n",
      "1 0 0\n",
      "1 1 1\n"
     ]
    }
   ],
   "source": [
    "NAND = Logic_gate(-20, -20, 30)  # <- Implementing a NAND gate as usual\n",
    "\n",
    "for x1, x2 in (0, 0), (0, 1), (1, 0), (1, 1):\n",
    "    AND_ = NAND.eval(NAND.eval(x1, x2))\n",
    "    print(x1, x2, AND_)"
   ]
  },
  {
   "cell_type": "markdown",
   "metadata": {
    "colab_type": "text",
    "id": "pZpIwcaBWEIg"
   },
   "source": [
    "<h4> Designing OR Gate using NAND Gate.</h4>\n",
    "An OR Gate is the combination of 3 NAND Gates where first two NANDs are used to negate the input and third NAND is used to operate over output of first two..."
   ]
  },
  {
   "cell_type": "code",
   "execution_count": 141,
   "metadata": {
    "colab": {
     "base_uri": "https://localhost:8080/",
     "height": 87
    },
    "colab_type": "code",
    "id": "0zTw9b1NUsAV",
    "outputId": "e712b44a-64d3-4a6f-c793-89e1634bb99b"
   },
   "outputs": [
    {
     "name": "stdout",
     "output_type": "stream",
     "text": [
      "0 0 0\n",
      "0 1 1\n",
      "1 0 1\n",
      "1 1 1\n"
     ]
    }
   ],
   "source": [
    "NAND = Logic_gate(-20, -20, 30)  # <- Implementing a NAND gate as usual\n",
    "\n",
    "for x1, x2 in (0, 0), (0, 1), (1, 0), (1, 1):\n",
    "    OR_ = NAND.eval(NAND.eval(x1), NAND.eval(x2))\n",
    "    print(x1, x2, OR_)"
   ]
  },
  {
   "cell_type": "markdown",
   "metadata": {
    "colab_type": "text",
    "id": "ZsBPIcp2XNlw"
   },
   "source": [
    "<h4> Designing XOR Gate using NAND Gate.</h4>\n",
    "An EXOR Gate can be achived with 4 NAND gates."
   ]
  },
  {
   "cell_type": "code",
   "execution_count": 143,
   "metadata": {
    "colab": {
     "base_uri": "https://localhost:8080/",
     "height": 87
    },
    "colab_type": "code",
    "id": "NicavPu9XNl8",
    "outputId": "63c6834f-09f6-420d-fd9d-2ea6c59f5fcb"
   },
   "outputs": [
    {
     "name": "stdout",
     "output_type": "stream",
     "text": [
      "0 0 0\n",
      "0 1 1\n",
      "1 0 1\n",
      "1 1 0\n"
     ]
    }
   ],
   "source": [
    "NAND = Logic_gate(-20, -20, 30)  # <- Implementing a NAND gate as usual\n",
    "\n",
    "for x1, x2 in (0, 0), (0, 1), (1, 0), (1, 1):\n",
    "    ExOR_ = NAND.eval(NAND.eval(x1, NAND.eval(x1, x2)), NAND.eval(x2, NAND.eval(x1, x2)))\n",
    "    print(x1, x2, ExOR_)"
   ]
  },
  {
   "cell_type": "markdown",
   "metadata": {
    "colab_type": "text",
    "id": "m46OQswPc1d2"
   },
   "source": [
    "<h4> Designing XOR Gate using NAND Gate.</h4>\n",
    "An ExNOR Gate can be achived with adding a negating NAND at the end of our ExOR's output..."
   ]
  },
  {
   "cell_type": "code",
   "execution_count": 145,
   "metadata": {
    "colab": {
     "base_uri": "https://localhost:8080/",
     "height": 87
    },
    "colab_type": "code",
    "id": "Y_6kgsBEc1d8",
    "outputId": "5cba3e14-0cc3-4e37-84fb-b1f1049558d7"
   },
   "outputs": [
    {
     "name": "stdout",
     "output_type": "stream",
     "text": [
      "0 0 1\n",
      "0 1 0\n",
      "1 0 0\n",
      "1 1 1\n"
     ]
    }
   ],
   "source": [
    "NAND = Logic_gate(-20, -20, 30)  # <- Implementing a NAND gate as usual\n",
    "\n",
    "for x1, x2 in (0, 0), (0, 1), (1, 0), (1, 1):\n",
    "    ExNOR_ = NAND.eval(NAND.eval(NAND.eval(x1, NAND.eval(x1, x2)), NAND.eval(x2, NAND.eval(x1, x2))))\n",
    "    print(x1, x2, ExNOR_)"
   ]
  }
 ],
 "metadata": {
  "colab": {
   "collapsed_sections": [],
   "name": "Neural Networks - Neurons",
   "provenance": [],
   "toc_visible": true
  },
  "kernelspec": {
   "display_name": "Python 3",
   "language": "python",
   "name": "python3"
  },
  "language_info": {
   "codemirror_mode": {
    "name": "ipython",
    "version": 3
   },
   "file_extension": ".py",
   "mimetype": "text/x-python",
   "name": "python",
   "nbconvert_exporter": "python",
   "pygments_lexer": "ipython3",
   "version": "3.7.3"
  }
 },
 "nbformat": 4,
 "nbformat_minor": 1
}
