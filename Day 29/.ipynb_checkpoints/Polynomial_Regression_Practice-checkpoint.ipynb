{
 "cells": [
  {
   "cell_type": "markdown",
   "metadata": {
    "colab_type": "text",
    "id": "BpjHuUwkbTx_"
   },
   "source": [
    "# Practice Works\n",
    "### Practice Models in Polynomial Regression.\n"
   ]
  },
  {
   "cell_type": "markdown",
   "metadata": {
    "colab_type": "text",
    "id": "fFcrZtknjcwU"
   },
   "source": [
    "### Fitting a simple Polynomial curve to a data with single indipendent variable"
   ]
  },
  {
   "cell_type": "code",
   "execution_count": 1,
   "metadata": {
    "colab": {},
    "colab_type": "code",
    "id": "b_T_QycYgocz"
   },
   "outputs": [
    {
     "ename": "ModuleNotFoundError",
     "evalue": "No module named 'matplotlib.pyplot'",
     "output_type": "error",
     "traceback": [
      "\u001b[1;31m---------------------------------------------------------------------------\u001b[0m",
      "\u001b[1;31mModuleNotFoundError\u001b[0m                       Traceback (most recent call last)",
      "\u001b[1;32m<ipython-input-1-f00661b19d9d>\u001b[0m in \u001b[0;36m<module>\u001b[1;34m\u001b[0m\n\u001b[0;32m      1\u001b[0m \u001b[1;32mimport\u001b[0m \u001b[0mnumpy\u001b[0m \u001b[1;32mas\u001b[0m \u001b[0mnp\u001b[0m\u001b[1;33m\u001b[0m\u001b[1;33m\u001b[0m\u001b[0m\n\u001b[1;32m----> 2\u001b[1;33m \u001b[1;32mimport\u001b[0m \u001b[0mmatplotlib\u001b[0m\u001b[1;33m.\u001b[0m\u001b[0mpyplot\u001b[0m \u001b[1;32mas\u001b[0m \u001b[0mplt\u001b[0m\u001b[1;33m\u001b[0m\u001b[1;33m\u001b[0m\u001b[0m\n\u001b[0m\u001b[0;32m      3\u001b[0m \u001b[1;32mfrom\u001b[0m \u001b[0msklearn\u001b[0m\u001b[1;33m.\u001b[0m\u001b[0mpreprocessing\u001b[0m \u001b[1;32mimport\u001b[0m \u001b[0mPolynomialFeatures\u001b[0m\u001b[1;33m\u001b[0m\u001b[1;33m\u001b[0m\u001b[0m\n\u001b[0;32m      4\u001b[0m \u001b[1;32mfrom\u001b[0m \u001b[0msklearn\u001b[0m\u001b[1;33m.\u001b[0m\u001b[0mlinear_model\u001b[0m \u001b[1;32mimport\u001b[0m \u001b[0mLinearRegression\u001b[0m\u001b[1;33m\u001b[0m\u001b[1;33m\u001b[0m\u001b[0m\n\u001b[0;32m      5\u001b[0m \u001b[1;32mfrom\u001b[0m \u001b[0msklearn\u001b[0m\u001b[1;33m.\u001b[0m\u001b[0mmetrics\u001b[0m \u001b[1;32mimport\u001b[0m \u001b[0mmean_squared_error\u001b[0m\u001b[1;33m,\u001b[0m \u001b[0mr2_score\u001b[0m\u001b[1;33m\u001b[0m\u001b[1;33m\u001b[0m\u001b[0m\n",
      "\u001b[1;31mModuleNotFoundError\u001b[0m: No module named 'matplotlib.pyplot'"
     ]
    }
   ],
   "source": [
    "import numpy as np\n",
    "import matplotlib.pyplot as plt\n",
    "from sklearn.preprocessing import PolynomialFeatures\n",
    "from sklearn.linear_model import LinearRegression\n",
    "from sklearn.metrics import mean_squared_error, r2_score"
   ]
  },
  {
   "cell_type": "code",
   "execution_count": 2,
   "metadata": {
    "colab": {
     "base_uri": "https://localhost:8080/",
     "height": 265
    },
    "colab_type": "code",
    "id": "lKH4HqEDbB3F",
    "outputId": "88445de0-f9e3-4c6e-ba3a-a3e27d0c5fde"
   },
   "outputs": [
    {
     "data": {
      "image/png": "[encoded data removed]",
      "text/plain": [
       "<Figure size 432x288 with 1 Axes>"
      ]
     },
     "metadata": {
      "tags": []
     },
     "output_type": "display_data"
    }
   ],
   "source": [
    "# Generating some random points to represent a simple polymonial curve as out dataset...\n",
    "np.random.seed(2)\n",
    "x = 2 - 3 * np.random.normal(0, 1, 20)\n",
    "y = x - 2 * (x ** 2) + 0.5 * (x ** 3) + np.random.normal(-3, 3, 20)\n",
    "plt.scatter(x,y, s=10)\n",
    "plt.show()"
   ]
  },
  {
   "cell_type": "code",
   "execution_count": 0,
   "metadata": {
    "colab": {},
    "colab_type": "code",
    "id": "qRW52_Lzid_A"
   },
   "outputs": [],
   "source": [
    "# Reshaping our x array to make it a 2D array to fit it into our traning models\n",
    "x = x.reshape((-1, 1))"
   ]
  },
  {
   "cell_type": "markdown",
   "metadata": {
    "colab_type": "text",
    "id": "a3GFw1gRMCKK"
   },
   "source": [
    "#### Trying the 1st Degree Equation"
   ]
  },
  {
   "cell_type": "code",
   "execution_count": 4,
   "metadata": {
    "colab": {
     "base_uri": "https://localhost:8080/",
     "height": 0
    },
    "colab_type": "code",
    "id": "eJdHctZWMHUv",
    "outputId": "8ff0b859-e17c-4788-b2b6-98f1ebc5b2a0"
   },
   "outputs": [
    {
     "data": {
      "text/plain": [
       "array([[ 1.        ,  3.25027354],\n",
       "       [ 1.        ,  2.16880048],\n",
       "       [ 1.        ,  8.40858829],\n",
       "       [ 1.        , -2.92081243],\n",
       "       [ 1.        ,  7.38030676],\n",
       "       [ 1.        ,  4.5252421 ],\n",
       "       [ 1.        ,  0.49135575],\n",
       "       [ 1.        ,  5.73586426],\n",
       "       [ 1.        ,  5.17385666],\n",
       "       [ 1.        ,  4.72702284],\n",
       "       [ 1.        ,  0.34563787],\n",
       "       [ 1.        , -4.87662404],\n",
       "       [ 1.        ,  1.87538182],\n",
       "       [ 1.        ,  5.35377634],\n",
       "       [ 1.        ,  0.38282504],\n",
       "       [ 1.        ,  3.7884791 ],\n",
       "       [ 1.        ,  2.05739149],\n",
       "       [ 1.        , -1.52500366],\n",
       "       [ 1.        ,  4.24361285],\n",
       "       [ 1.        ,  1.97292425]])"
      ]
     },
     "execution_count": 4,
     "metadata": {
      "tags": []
     },
     "output_type": "execute_result"
    }
   ],
   "source": [
    "# Changing the x features from the polymmial form to a linear format using hyper-dimensions.\n",
    "# Well our data is already in single feature but still lets give it a try...\n",
    "\n",
    "poly_feature = PolynomialFeatures(1)\n",
    "x_poly_1 = poly_feature.fit_transform(x)\n",
    "x_poly_1"
   ]
  },
  {
   "cell_type": "code",
   "execution_count": 5,
   "metadata": {
    "colab": {
     "base_uri": "https://localhost:8080/",
     "height": 0
    },
    "colab_type": "code",
    "id": "PlVdVoMsMr-a",
    "outputId": "ffdfc214-ce6b-4313-90af-4f04d7f75da2"
   },
   "outputs": [
    {
     "data": {
      "text/plain": [
       "LinearRegression(copy_X=True, fit_intercept=True, n_jobs=None, normalize=False)"
      ]
     },
     "execution_count": 5,
     "metadata": {
      "tags": []
     },
     "output_type": "execute_result"
    }
   ],
   "source": [
    "# Now trying to fit the new polynomial converted feature set using the linearregressoin model...\n",
    "l_model_1 = LinearRegression()\n",
    "l_model_1.fit(x_poly_1, y)"
   ]
  },
  {
   "cell_type": "code",
   "execution_count": 6,
   "metadata": {
    "colab": {
     "base_uri": "https://localhost:8080/",
     "height": 0
    },
    "colab_type": "code",
    "id": "CA9_FLwUMzNu",
    "outputId": "41115e05-6b09-4fb4-cda3-0794751ef10c"
   },
   "outputs": [
    {
     "name": "stdout",
     "output_type": "stream",
     "text": [
      "Root mean Square Error :  26.962650964943087\n",
      "R2 :  0.7048206926877538\n"
     ]
    }
   ],
   "source": [
    "# getting the prediction on our new model also trying to find the Root-mean-sqr Error and R2 function values for the same...\n",
    "y_poly_pred_1 = l_model_1.predict(x_poly_1)\n",
    "\n",
    "rmse_1 = np.sqrt(mean_squared_error(y, y_poly_pred_1))\n",
    "r2_1 = r2_score(y, y_poly_pred_1)\n",
    "\n",
    "print(\"Root mean Square Error : \", rmse_1)\n",
    "print(\"R2 : \", r2_1)"
   ]
  },
  {
   "cell_type": "code",
   "execution_count": 7,
   "metadata": {
    "colab": {
     "base_uri": "https://localhost:8080/",
     "height": 0
    },
    "colab_type": "code",
    "id": "y_u27d0wNECm",
    "outputId": "834b3343-a4ed-4112-a8ba-58171d986754"
   },
   "outputs": [
    {
     "data": {
      "text/plain": [
       "[<matplotlib.lines.Line2D at 0x7f767535c080>]"
      ]
     },
     "execution_count": 7,
     "metadata": {
      "tags": []
     },
     "output_type": "execute_result"
    },
    {
     "data": {
      "image/png": "[encoded data removed]",
      "text/plain": [
       "<Figure size 432x288 with 1 Axes>"
      ]
     },
     "metadata": {
      "tags": []
     },
     "output_type": "display_data"
    }
   ],
   "source": [
    "# Plotting our first output on the graph with our original points\n",
    "\n",
    "plt.scatter(x, y)\n",
    "\n",
    "# sorting the x to y_poly_pred values before ploting on the graph\n",
    "sorted_zip = sorted(zip(x, y_poly_pred_1), key= lambda x : x[0])\n",
    "x_new_1, y_poly_pred_1 = zip(*sorted_zip)\n",
    "plt.plot(x_new_1, y_poly_pred_1, color='m', )"
   ]
  },
  {
   "cell_type": "markdown",
   "metadata": {
    "colab_type": "text",
    "id": "cKNHTVskpszs"
   },
   "source": [
    "#### Trying the 2nd Degree Polynomial"
   ]
  },
  {
   "cell_type": "code",
   "execution_count": 8,
   "metadata": {
    "colab": {
     "base_uri": "https://localhost:8080/",
     "height": 0
    },
    "colab_type": "code",
    "id": "BCK8A-ayhZPs",
    "outputId": "4c1e4df0-1fa7-4a15-ad66-cffd67b311f6"
   },
   "outputs": [
    {
     "data": {
      "text/plain": [
       "array([[ 1.        ,  3.25027354, 10.5642781 ],\n",
       "       [ 1.        ,  2.16880048,  4.70369553],\n",
       "       [ 1.        ,  8.40858829, 70.70435698],\n",
       "       [ 1.        , -2.92081243,  8.53114522],\n",
       "       [ 1.        ,  7.38030676, 54.46892781],\n",
       "       [ 1.        ,  4.5252421 , 20.47781604],\n",
       "       [ 1.        ,  0.49135575,  0.24143047],\n",
       "       [ 1.        ,  5.73586426, 32.90013881],\n",
       "       [ 1.        ,  5.17385666, 26.7687927 ],\n",
       "       [ 1.        ,  4.72702284, 22.34474498],\n",
       "       [ 1.        ,  0.34563787,  0.11946553],\n",
       "       [ 1.        , -4.87662404, 23.78146201],\n",
       "       [ 1.        ,  1.87538182,  3.51705697],\n",
       "       [ 1.        ,  5.35377634, 28.66292105],\n",
       "       [ 1.        ,  0.38282504,  0.14655501],\n",
       "       [ 1.        ,  3.7884791 , 14.35257389],\n",
       "       [ 1.        ,  2.05739149,  4.23285974],\n",
       "       [ 1.        , -1.52500366,  2.32563616],\n",
       "       [ 1.        ,  4.24361285, 18.00825   ],\n",
       "       [ 1.        ,  1.97292425,  3.89243008]])"
      ]
     },
     "execution_count": 8,
     "metadata": {
      "tags": []
     },
     "output_type": "execute_result"
    }
   ],
   "source": [
    "# Changing the x features from the polymmial form to a linear format using hyper-dimensions.\n",
    "\n",
    "poly_feature = PolynomialFeatures(2)\n",
    "x_poly_2 = poly_feature.fit_transform(x)\n",
    "x_poly_2"
   ]
  },
  {
   "cell_type": "code",
   "execution_count": 9,
   "metadata": {
    "colab": {
     "base_uri": "https://localhost:8080/",
     "height": 0
    },
    "colab_type": "code",
    "id": "VhW-ILcbiTn5",
    "outputId": "7b00e362-5f1c-44f3-8e90-3e26ea437b70"
   },
   "outputs": [
    {
     "data": {
      "text/plain": [
       "LinearRegression(copy_X=True, fit_intercept=True, n_jobs=None, normalize=False)"
      ]
     },
     "execution_count": 9,
     "metadata": {
      "tags": []
     },
     "output_type": "execute_result"
    }
   ],
   "source": [
    "# Now trying to fit the new polynomial converted feature set using the linearregressoin model...\n",
    "l_model_2 = LinearRegression()\n",
    "l_model_2.fit(x_poly_2, y)"
   ]
  },
  {
   "cell_type": "code",
   "execution_count": 10,
   "metadata": {
    "colab": {
     "base_uri": "https://localhost:8080/",
     "height": 0
    },
    "colab_type": "code",
    "id": "SrEEAUjLkfK5",
    "outputId": "74a85e8d-5dda-4184-e183-56cc9389c318"
   },
   "outputs": [
    {
     "name": "stdout",
     "output_type": "stream",
     "text": [
      "Root mean Square Error :  24.371557653094026\n",
      "R2 :  0.7588277673861702\n"
     ]
    }
   ],
   "source": [
    "# getting the prediction on our new model also trying to find the Root-mean-sqr Error and R2 function values for the same...\n",
    "y_poly_pred_2 = l_model_2.predict(x_poly_2)\n",
    "\n",
    "rmse_2 = np.sqrt(mean_squared_error(y, y_poly_pred_2))\n",
    "r2_2 = r2_score(y, y_poly_pred_2)\n",
    "\n",
    "print(\"Root mean Square Error : \", rmse_2)\n",
    "print(\"R2 : \", r2_2)"
   ]
  },
  {
   "cell_type": "code",
   "execution_count": 11,
   "metadata": {
    "colab": {
     "base_uri": "https://localhost:8080/",
     "height": 0
    },
    "colab_type": "code",
    "id": "UO1Yjk0cmT0I",
    "outputId": "bbb31bd3-f7e9-4027-c237-00a7309216c3"
   },
   "outputs": [
    {
     "data": {
      "text/plain": [
       "[<matplotlib.lines.Line2D at 0x7f7675334320>]"
      ]
     },
     "execution_count": 11,
     "metadata": {
      "tags": []
     },
     "output_type": "execute_result"
    },
    {
     "data": {
      "image/png": "[encoded data removed]",
      "text/plain": [
       "<Figure size 432x288 with 1 Axes>"
      ]
     },
     "metadata": {
      "tags": []
     },
     "output_type": "display_data"
    }
   ],
   "source": [
    "# Plotting our first output on the graph with our original points\n",
    "\n",
    "plt.scatter(x, y)\n",
    "\n",
    "# sorting the x to y_poly_pred values before ploting on the graph\n",
    "sorted_zip = sorted(zip(x, y_poly_pred_2), key= lambda x : x[0])\n",
    "x_new_2, y_poly_pred_2 = zip(*sorted_zip)\n",
    "plt.plot(x_new_2, y_poly_pred_2, color='m')"
   ]
  },
  {
   "cell_type": "markdown",
   "metadata": {
    "colab_type": "text",
    "id": "PaP3RGzfpjwr"
   },
   "source": [
    "#### Trying the 3rd degree Polynomial"
   ]
  },
  {
   "cell_type": "code",
   "execution_count": 0,
   "metadata": {
    "colab": {},
    "colab_type": "code",
    "id": "iy8Eg2bKoNxL"
   },
   "outputs": [],
   "source": [
    "# Changing the x features from the polymmial form to a linear format using hyper-dimensions.\n",
    "\n",
    "poly_feature = PolynomialFeatures(3)\n",
    "x_poly_3 = poly_feature.fit_transform(x)\n",
    "# x_poly"
   ]
  },
  {
   "cell_type": "code",
   "execution_count": 13,
   "metadata": {
    "colab": {
     "base_uri": "https://localhost:8080/",
     "height": 34
    },
    "colab_type": "code",
    "id": "7AluRosIp31l",
    "outputId": "12cb3bac-35c3-43aa-f60a-caf133cecf8d"
   },
   "outputs": [
    {
     "data": {
      "text/plain": [
       "LinearRegression(copy_X=True, fit_intercept=True, n_jobs=None, normalize=False)"
      ]
     },
     "execution_count": 13,
     "metadata": {
      "tags": []
     },
     "output_type": "execute_result"
    }
   ],
   "source": [
    "# Now trying to fit the new polynomial converted feature set using the linearregressoin model...\n",
    "l_model_3 = LinearRegression()\n",
    "l_model_3.fit(x_poly_3, y)"
   ]
  },
  {
   "cell_type": "code",
   "execution_count": 14,
   "metadata": {
    "colab": {
     "base_uri": "https://localhost:8080/",
     "height": 52
    },
    "colab_type": "code",
    "id": "fSzK9xMNp94n",
    "outputId": "ec1d7215-35ff-4684-960a-8d129779afa1"
   },
   "outputs": [
    {
     "name": "stdout",
     "output_type": "stream",
     "text": [
      "Root mean Square Error :  2.6193767651024245\n",
      "R2 :  0.9972141567824401\n"
     ]
    }
   ],
   "source": [
    "# getting the prediction on our new model also trying to find the Root-mean-sqr Error and R2 function values for the same...\n",
    "y_poly_pred_3 = l_model_3.predict(x_poly_3)\n",
    "\n",
    "rmse_3 = np.sqrt(mean_squared_error(y, y_poly_pred_3))\n",
    "r2_3 = r2_score(y, y_poly_pred_3)\n",
    "\n",
    "print(\"Root mean Square Error : \", rmse_3)\n",
    "print(\"R2 : \", r2_3)"
   ]
  },
  {
   "cell_type": "code",
   "execution_count": 15,
   "metadata": {
    "colab": {
     "base_uri": "https://localhost:8080/",
     "height": 282
    },
    "colab_type": "code",
    "id": "JmR0F-0FqBNQ",
    "outputId": "1dc3deab-d9e6-4e3c-d4a3-3642f7f044df"
   },
   "outputs": [
    {
     "data": {
      "text/plain": [
       "[<matplotlib.lines.Line2D at 0x7f7675275dd8>]"
      ]
     },
     "execution_count": 15,
     "metadata": {
      "tags": []
     },
     "output_type": "execute_result"
    },
    {
     "data": {
      "image/png": "[encoded data removed]",
      "text/plain": [
       "<Figure size 432x288 with 1 Axes>"
      ]
     },
     "metadata": {
      "tags": []
     },
     "output_type": "display_data"
    }
   ],
   "source": [
    "# Plotting our first output on the graph with our original points\n",
    "\n",
    "plt.scatter(x, y)\n",
    "\n",
    "# sorting the x to y_poly_pred values before ploting on the graph\n",
    "sorted_zip = sorted(zip(x, y_poly_pred_3), key= lambda x : x[0])\n",
    "x_new_3, y_poly_pred_3 = zip(*sorted_zip)\n",
    "plt.plot(x_new_3, y_poly_pred_3, color='m')"
   ]
  },
  {
   "cell_type": "markdown",
   "metadata": {
    "colab_type": "text",
    "id": "vHx_jUNvNxWQ"
   },
   "source": [
    "#### Ploting all Observations..."
   ]
  },
  {
   "cell_type": "code",
   "execution_count": 50,
   "metadata": {
    "colab": {
     "base_uri": "https://localhost:8080/",
     "height": 282
    },
    "colab_type": "code",
    "id": "RMkxaNKvqE8T",
    "outputId": "1730e263-8fb0-47fc-dd85-8b58e58eb0b8"
   },
   "outputs": [
    {
     "data": {
      "text/plain": [
       "[<matplotlib.lines.Line2D at 0x7f7674478630>]"
      ]
     },
     "execution_count": 50,
     "metadata": {
      "tags": []
     },
     "output_type": "execute_result"
    },
    {
     "data": {
      "image/png": "[encoded data removed]",
      "text/plain": [
       "<Figure size 432x288 with 1 Axes>"
      ]
     },
     "metadata": {
      "tags": []
     },
     "output_type": "display_data"
    }
   ],
   "source": [
    "# Now lets try to plot all the graphs in a same graph...\n",
    "plt.scatter(x, y)\n",
    "plt.plot(x_new_1, y_poly_pred_1, color='k', ls=\":\")\n",
    "plt.plot(x_new_2, y_poly_pred_2, color='r', ls=\"--\")\n",
    "plt.plot(x_new_3, y_poly_pred_3, color='g')"
   ]
  },
  {
   "cell_type": "code",
   "execution_count": 74,
   "metadata": {
    "colab": {
     "base_uri": "https://localhost:8080/",
     "height": 282
    },
    "colab_type": "code",
    "id": "oRVDFhKOQYIY",
    "outputId": "bc5660a0-1d67-4034-bba2-b08b5d52cd56"
   },
   "outputs": [
    {
     "data": {
      "text/plain": [
       "<matplotlib.legend.Legend at 0x7f76740e9048>"
      ]
     },
     "execution_count": 74,
     "metadata": {
      "tags": []
     },
     "output_type": "execute_result"
    },
    {
     "data": {
      "image/png": "[encoded data removed]",
      "text/plain": [
       "<Figure size 432x288 with 1 Axes>"
      ]
     },
     "metadata": {
      "tags": []
     },
     "output_type": "display_data"
    }
   ],
   "source": [
    "# Ploting coefficients of wach degree models\n",
    "\n",
    "labels = [\"1st Degree\", \"2nd Degree\", \"3rd Degree\",]\n",
    "\n",
    "result = np.zeros(5)\n",
    "result[:2] = l_model_1.coef_\n",
    "coef_1 = result\n",
    "\n",
    "result = np.zeros(5)\n",
    "result[:3] = l_model_2.coef_\n",
    "coef_2 = result\n",
    "\n",
    "result = np.zeros(5)\n",
    "result[:4] = l_model_3.coef_\n",
    "coef_3 = result\n",
    "\n",
    "plt.plot(np.arange(5), coef_1, \"b:\")\n",
    "plt.plot(np.arange(5), coef_2, \"r--\")\n",
    "plt.plot(np.arange(5), coef_3, \"g-\")\n",
    "plt.grid(True, which=\"both\")\n",
    "plt.legend(labels)\n"
   ]
  },
  {
   "cell_type": "code",
   "execution_count": 0,
   "metadata": {
    "colab": {},
    "colab_type": "code",
    "id": "Wg2JHwahQaOG"
   },
   "outputs": [],
   "source": []
  }
 ],
 "metadata": {
  "colab": {
   "name": "Polynomial Regression Practice.ipynb",
   "provenance": []
  },
  "kernelspec": {
   "display_name": "Python 3",
   "language": "python",
   "name": "python3"
  },
  "language_info": {
   "codemirror_mode": {
    "name": "ipython",
    "version": 3
   },
   "file_extension": ".py",
   "mimetype": "text/x-python",
   "name": "python",
   "nbconvert_exporter": "python",
   "pygments_lexer": "ipython3",
   "version": "3.7.4"
  }
 },
 "nbformat": 4,
 "nbformat_minor": 1
}
