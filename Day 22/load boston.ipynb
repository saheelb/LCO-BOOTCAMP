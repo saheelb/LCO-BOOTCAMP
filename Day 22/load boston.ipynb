{
 "cells": [
  {
   "cell_type": "code",
   "execution_count": 1,
   "metadata": {},
   "outputs": [],
   "source": [
    "# y = sum(w_i* x_i) + b\n",
    "\n",
    "# GENERAL LOSS FUNCTION \n",
    "# j = Nsum{y_t - sum(w_i * x_i) - b }   Nsum-> 1 to 300  sum -> 1 to p"
   ]
  },
  {
   "cell_type": "code",
   "execution_count": 2,
   "metadata": {},
   "outputs": [
    {
     "name": "stdout",
     "output_type": "stream",
     "text": [
      "[-1.18276105e-01  4.77342980e-02  3.10161625e-03  2.52755156e+00\n",
      " -1.70540160e+01  3.67037608e+00 -1.06825325e-02 -1.59192656e+00\n",
      "  2.50606596e-01 -1.08578204e-02 -1.04985764e+00  6.08143214e-03\n",
      " -5.16999105e-01]\n",
      "41.05482265952524\n"
     ]
    },
    {
     "data": {
      "text/plain": [
       "0.6694221114991397"
      ]
     },
     "execution_count": 2,
     "metadata": {},
     "output_type": "execute_result"
    }
   ],
   "source": [
    "from sklearn.datasets import load_boston \n",
    "from sklearn.linear_model import Ridge , RidgeCV , LinearRegression , Lasso , LogisticRegression \n",
    "from sklearn.model_selection import train_test_split , cross_val_score\n",
    "import pandas as pd\n",
    "import numpy as np \n",
    "\n",
    "data = load_boston()\n",
    "\n",
    "df = pd.DataFrame(data.data , columns = data.feature_names)\n",
    "# print(df)\n",
    "\n",
    "x_train , x_test , y_train , y_test = train_test_split(df ,data.target , test_size = 1/3 , random_state=0)\n",
    "# print(x_train.shape)\n",
    "# print(y_train.shape )\n",
    "# print(y_test.shape)\n",
    "\n",
    "\n",
    "reg = LinearRegression()\n",
    "reg.fit(x_train , y_train)\n",
    "\n",
    "print(reg.coef_)\n",
    "print(reg.intercept_)\n",
    "\n",
    "\n",
    "reg.score(x_test , y_test)\n"
   ]
  },
  {
   "cell_type": "code",
   "execution_count": 3,
   "metadata": {},
   "outputs": [
    {
     "name": "stdout",
     "output_type": "stream",
     "text": [
      "Ridge Score : 0.6693737735225804\n",
      "Cross value score: 0.7261872897214594\n"
     ]
    }
   ],
   "source": [
    "#RIDGE REGRESSION \n",
    "\n",
    "#Ridge function = Linear regression + alpha(sum{i to n}(wi)**2)\n",
    "\n",
    "\n",
    "\n",
    "rid = Ridge(alpha = 0.01 ,max_iter=10, tol=0.1 )\n",
    "rid.fit(x_train , y_train)\n",
    "rid_score = rid.score(x_test , y_test)\n",
    "print(\"Ridge Score :\", rid_score)\n",
    "\n",
    "ridge_cross_score = cross_val_score(rid , x_train , y_train , cv=5).mean()\n",
    "print(\"Cross value score:\" , ridge_cross_score)"
   ]
  },
  {
   "cell_type": "code",
   "execution_count": 4,
   "metadata": {},
   "outputs": [
    {
     "name": "stdout",
     "output_type": "stream",
     "text": [
      "Lasso Score: 0.6680319000474135\n",
      "Lasso Cross score Value :  0.7257923573426206\n"
     ]
    }
   ],
   "source": [
    "#Lasso REG\n",
    "#Lasso function = Linear Reg + alpha(sum{i to n}|mod(w)|)\n",
    "\n",
    "las = Lasso(alpha = 0.01 ,max_iter=100 , tol=0.01 )\n",
    "las.fit(x_train ,y_train)\n",
    "las_score = las.score(x_test , y_test)\n",
    "\n",
    "print(\"Lasso Score:\" , las_score)\n",
    "\n",
    "lasso_cross_score = cross_val_score(las , x_train , y_train , cv=5).mean()\n",
    "print(\"Lasso Cross score Value : \",lasso_cross_score)\n",
    "\n",
    "\n",
    "\n"
   ]
  },
  {
   "cell_type": "code",
   "execution_count": 5,
   "metadata": {},
   "outputs": [],
   "source": [
    "# Polynomial Regression\n",
    "\n",
    "# y = ax1**2 + bx2**2 + cx1 +dx2 + e +fx1x2 -> 3 feature factors y,x1 ,x2 \n",
    "\n",
    "\n",
    "# y = az1 + bz2 + cz3 + dz4 + e + fz5  -> 6 feature factors converted into higher dimensional space\n",
    "\n"
   ]
  },
  {
   "cell_type": "code",
   "execution_count": 6,
   "metadata": {
    "scrolled": true
   },
   "outputs": [
    {
     "data": {
      "text/plain": [
       "array([[  1.   ,   7.4  ,   0.7  , ...,  88.36 ,  47.   ,  25.   ],\n",
       "       [  1.   ,   7.8  ,   0.88 , ...,  96.04 ,  49.   ,  25.   ],\n",
       "       [  1.   ,   7.8  ,   0.76 , ...,  96.04 ,  49.   ,  25.   ],\n",
       "       ...,\n",
       "       [  1.   ,   6.3  ,   0.51 , ..., 121.   ,  66.   ,  36.   ],\n",
       "       [  1.   ,   5.9  ,   0.645, ..., 104.04 ,  51.   ,  25.   ],\n",
       "       [  1.   ,   6.   ,   0.31 , ..., 121.   ,  66.   ,  36.   ]])"
      ]
     },
     "execution_count": 6,
     "metadata": {},
     "output_type": "execute_result"
    }
   ],
   "source": [
    "\n"
   ]
  },
  {
   "cell_type": "code",
   "execution_count": 7,
   "metadata": {},
   "outputs": [
    {
     "data": {
      "text/plain": [
       "array([[5],\n",
       "       [5],\n",
       "       [5],\n",
       "       ...,\n",
       "       [6],\n",
       "       [5],\n",
       "       [6]], dtype=int64)"
      ]
     },
     "execution_count": 7,
     "metadata": {},
     "output_type": "execute_result"
    }
   ],
   "source": [
    "X"
   ]
  },
  {
   "cell_type": "code",
   "execution_count": 8,
   "metadata": {},
   "outputs": [],
   "source": [
    "lReg = LogisticRegression(C= 1.0 , solver=\"sag\", multi_class=\"multinomial\" , max_iter =1000 , tol = 0.001) \n"
   ]
  },
  {
   "cell_type": "code",
   "execution_count": 11,
   "metadata": {},
   "outputs": [
    {
     "ename": "ValueError",
     "evalue": "Unknown label type: 'continuous'",
     "output_type": "error",
     "traceback": [
      "\u001b[1;31m---------------------------------------------------------------------------\u001b[0m",
      "\u001b[1;31mValueError\u001b[0m                                Traceback (most recent call last)",
      "\u001b[1;32m<ipython-input-11-62e0f727e7bc>\u001b[0m in \u001b[0;36m<module>\u001b[1;34m\u001b[0m\n\u001b[1;32m----> 1\u001b[1;33m \u001b[0mlReg\u001b[0m\u001b[1;33m.\u001b[0m\u001b[0mfit\u001b[0m\u001b[1;33m(\u001b[0m\u001b[0mx_train\u001b[0m\u001b[1;33m,\u001b[0m\u001b[0my_train\u001b[0m\u001b[1;33m)\u001b[0m\u001b[1;33m\u001b[0m\u001b[1;33m\u001b[0m\u001b[0m\n\u001b[0m",
      "\u001b[1;32m~\\Anaconda3\\lib\\site-packages\\sklearn\\linear_model\\logistic.py\u001b[0m in \u001b[0;36mfit\u001b[1;34m(self, X, y, sample_weight)\u001b[0m\n\u001b[0;32m   1531\u001b[0m         X, y = check_X_y(X, y, accept_sparse='csr', dtype=_dtype, order=\"C\",\n\u001b[0;32m   1532\u001b[0m                          accept_large_sparse=solver != 'liblinear')\n\u001b[1;32m-> 1533\u001b[1;33m         \u001b[0mcheck_classification_targets\u001b[0m\u001b[1;33m(\u001b[0m\u001b[0my\u001b[0m\u001b[1;33m)\u001b[0m\u001b[1;33m\u001b[0m\u001b[1;33m\u001b[0m\u001b[0m\n\u001b[0m\u001b[0;32m   1534\u001b[0m         \u001b[0mself\u001b[0m\u001b[1;33m.\u001b[0m\u001b[0mclasses_\u001b[0m \u001b[1;33m=\u001b[0m \u001b[0mnp\u001b[0m\u001b[1;33m.\u001b[0m\u001b[0munique\u001b[0m\u001b[1;33m(\u001b[0m\u001b[0my\u001b[0m\u001b[1;33m)\u001b[0m\u001b[1;33m\u001b[0m\u001b[1;33m\u001b[0m\u001b[0m\n\u001b[0;32m   1535\u001b[0m         \u001b[0mn_samples\u001b[0m\u001b[1;33m,\u001b[0m \u001b[0mn_features\u001b[0m \u001b[1;33m=\u001b[0m \u001b[0mX\u001b[0m\u001b[1;33m.\u001b[0m\u001b[0mshape\u001b[0m\u001b[1;33m\u001b[0m\u001b[1;33m\u001b[0m\u001b[0m\n",
      "\u001b[1;32m~\\Anaconda3\\lib\\site-packages\\sklearn\\utils\\multiclass.py\u001b[0m in \u001b[0;36mcheck_classification_targets\u001b[1;34m(y)\u001b[0m\n\u001b[0;32m    167\u001b[0m     if y_type not in ['binary', 'multiclass', 'multiclass-multioutput',\n\u001b[0;32m    168\u001b[0m                       'multilabel-indicator', 'multilabel-sequences']:\n\u001b[1;32m--> 169\u001b[1;33m         \u001b[1;32mraise\u001b[0m \u001b[0mValueError\u001b[0m\u001b[1;33m(\u001b[0m\u001b[1;34m\"Unknown label type: %r\"\u001b[0m \u001b[1;33m%\u001b[0m \u001b[0my_type\u001b[0m\u001b[1;33m)\u001b[0m\u001b[1;33m\u001b[0m\u001b[1;33m\u001b[0m\u001b[0m\n\u001b[0m\u001b[0;32m    170\u001b[0m \u001b[1;33m\u001b[0m\u001b[0m\n\u001b[0;32m    171\u001b[0m \u001b[1;33m\u001b[0m\u001b[0m\n",
      "\u001b[1;31mValueError\u001b[0m: Unknown label type: 'continuous'"
     ]
    }
   ],
   "source": [
    "lReg.fit(x_train,y_train)\n"
   ]
  },
  {
   "cell_type": "code",
   "execution_count": null,
   "metadata": {},
   "outputs": [],
   "source": [
    "lReg.score(x_train , y_train  )"
   ]
  },
  {
   "cell_type": "code",
   "execution_count": null,
   "metadata": {},
   "outputs": [],
   "source": []
  }
 ],
 "metadata": {
  "kernelspec": {
   "display_name": "Python 3",
   "language": "python",
   "name": "python3"
  },
  "language_info": {
   "codemirror_mode": {
    "name": "ipython",
    "version": 3
   },
   "file_extension": ".py",
   "mimetype": "text/x-python",
   "name": "python",
   "nbconvert_exporter": "python",
   "pygments_lexer": "ipython3",
   "version": "3.7.3"
  }
 },
 "nbformat": 4,
 "nbformat_minor": 2
}
