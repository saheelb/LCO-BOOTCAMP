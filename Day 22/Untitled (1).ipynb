{
 "cells": [
  {
   "cell_type": "code",
   "execution_count": 1,
   "metadata": {},
   "outputs": [],
   "source": [
    "import numpy as np\n",
    "import pandas as pd"
   ]
  },
  {
   "cell_type": "code",
   "execution_count": 2,
   "metadata": {},
   "outputs": [],
   "source": [
    "x = np.array([[2, 5, 6], [1, 2, 3], [4,5,3]])"
   ]
  },
  {
   "cell_type": "code",
   "execution_count": 3,
   "metadata": {},
   "outputs": [
    {
     "data": {
      "text/plain": [
       "(3, 3)"
      ]
     },
     "execution_count": 3,
     "metadata": {},
     "output_type": "execute_result"
    }
   ],
   "source": [
    "x.shape"
   ]
  },
  {
   "cell_type": "code",
   "execution_count": 4,
   "metadata": {},
   "outputs": [],
   "source": [
    "y = np.array([4,8,9])"
   ]
  },
  {
   "cell_type": "code",
   "execution_count": 5,
   "metadata": {},
   "outputs": [
    {
     "data": {
      "text/plain": [
       "(3,)"
      ]
     },
     "execution_count": 5,
     "metadata": {},
     "output_type": "execute_result"
    }
   ],
   "source": [
    "y.shape"
   ]
  },
  {
   "cell_type": "code",
   "execution_count": 6,
   "metadata": {},
   "outputs": [],
   "source": [
    "from sklearn.linear_model import LinearRegression"
   ]
  },
  {
   "cell_type": "code",
   "execution_count": 7,
   "metadata": {},
   "outputs": [],
   "source": [
    "l = LinearRegression()"
   ]
  },
  {
   "cell_type": "code",
   "execution_count": 8,
   "metadata": {},
   "outputs": [
    {
     "data": {
      "text/plain": [
       "LinearRegression(copy_X=True, fit_intercept=True, n_jobs=None, normalize=False)"
      ]
     },
     "execution_count": 8,
     "metadata": {},
     "output_type": "execute_result"
    }
   ],
   "source": [
    "l.fit(x, y)"
   ]
  },
  {
   "cell_type": "code",
   "execution_count": 9,
   "metadata": {},
   "outputs": [
    {
     "data": {
      "text/plain": [
       "array([ 0.59090909, -0.25757576, -1.27272727])"
      ]
     },
     "execution_count": 9,
     "metadata": {},
     "output_type": "execute_result"
    }
   ],
   "source": [
    "l.coef_"
   ]
  },
  {
   "cell_type": "code",
   "execution_count": 10,
   "metadata": {},
   "outputs": [
    {
     "data": {
      "text/plain": [
       "11.742424242424244"
      ]
     },
     "execution_count": 10,
     "metadata": {},
     "output_type": "execute_result"
    }
   ],
   "source": [
    "l.intercept_"
   ]
  },
  {
   "cell_type": "code",
   "execution_count": 11,
   "metadata": {},
   "outputs": [],
   "source": [
    "def grad_desc(x, y, max_iter, alpha):\n",
    "    \n",
    "    m = 0\n",
    "    c = 0 \n",
    "    \n",
    "    n = np.size(x)\n",
    "    \n",
    "    for i in range(max_iter):\n",
    "        \n",
    "        m = m - (1/len(x))*alpha*((2*m*np.sum(x**2))+(2*c*np.sum(x))-(2*np.sum(x*y)))\n",
    "        \n",
    "        c = c - (1/len(x))*alpha*((2*m*np.sum(x))+(2*c*n)-(2*np.sum(y)))\n",
    "        \n",
    "#         print(str(m))\n",
    "#         print(str(c))\n",
    "#         print()\n",
    "        \n",
    "        \n",
    "    return m, c\n",
    "# grad_desc(x , y , 5000 , 0.001)t\n",
    "\n"
   ]
  },
  {
   "cell_type": "code",
   "execution_count": 12,
   "metadata": {},
   "outputs": [],
   "source": [
    "def estimate_coef(x, y): \n",
    "\n",
    "    n = np.size(x) \n",
    "    \n",
    "    nom = (np.sum(x)*np.sum(x*y)) - (np.sum(x**2)*np.sum(y))\n",
    "    \n",
    "    denom = ((np.sum(x))**2) - n*(np.sum(x**2))\n",
    "    \n",
    "    b_0 = nom/denom\n",
    "    \n",
    "    b_1 = (np.sum(y) - (n*b_0))/(np.sum(x))\n",
    "  \n",
    "    return(b_0, b_1) "
   ]
  },
  {
   "cell_type": "code",
   "execution_count": 13,
   "metadata": {},
   "outputs": [],
   "source": [
    "def main(): \n",
    "    # observations \n",
    "    data = pd.read_csv(\"data.csv\")\n",
    "    x = data['x']\n",
    "    y = data['y']\n",
    "  \n",
    "    # estimating coefficients \n",
    "    b = estimate_coef(x, y) \n",
    "    print(\"Estimated coefficients:\\nc = {} \\nm = {}\".format(b[0], b[1])) \n",
    "    \n",
    "    \n",
    "    xx = grad_desc(x,y,50000,0.0001)\n",
    "    \n",
    "    print(\"m : \" + str(xx[0]) + \" , c : \" + str(xx[1]) )"
   ]
  },
  {
   "cell_type": "code",
   "execution_count": 14,
   "metadata": {},
   "outputs": [
    {
     "name": "stdout",
     "output_type": "stream",
     "text": [
      "Estimated coefficients:\n",
      "c = -107.60129073654959 \n",
      "m = -4.251139955949007\n",
      "m : -4.251149949408951 , c : -107.59569689257681\n"
     ]
    }
   ],
   "source": [
    "main()"
   ]
  },
  {
   "cell_type": "code",
   "execution_count": null,
   "metadata": {},
   "outputs": [],
   "source": []
  }
 ],
 "metadata": {
  "kernelspec": {
   "display_name": "Python 3",
   "language": "python",
   "name": "python3"
  },
  "language_info": {
   "codemirror_mode": {
    "name": "ipython",
    "version": 3
   },
   "file_extension": ".py",
   "mimetype": "text/x-python",
   "name": "python",
   "nbconvert_exporter": "python",
   "pygments_lexer": "ipython3",
   "version": "3.7.3"
  }
 },
 "nbformat": 4,
 "nbformat_minor": 2
}
