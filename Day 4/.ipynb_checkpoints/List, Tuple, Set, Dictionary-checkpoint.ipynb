{
 "cells": [
  {
   "cell_type": "code",
   "execution_count": 3,
   "metadata": {},
   "outputs": [
    {
     "name": "stdout",
     "output_type": "stream",
     "text": [
      "('saheel', ' suresh', 'bobde ')\n"
     ]
    }
   ],
   "source": [
    "#to create a tuple \n",
    "\n",
    "thistuple = (\"saheel\" , \" suresh\", \"bobde \")\n",
    "print(thistuple)"
   ]
  },
  {
   "cell_type": "code",
   "execution_count": 5,
   "metadata": {},
   "outputs": [
    {
     "name": "stdout",
     "output_type": "stream",
     "text": [
      "('saheel', 1, 5.0)\n"
     ]
    }
   ],
   "source": [
    "#to create a tuple with diff data types \n",
    "\n",
    "this_tuple = (\"saheel\" , 1 , 5.00)\n",
    "print(this_tuple)"
   ]
  },
  {
   "cell_type": "code",
   "execution_count": 6,
   "metadata": {},
   "outputs": [
    {
     "name": "stdout",
     "output_type": "stream",
     "text": [
      "3\n"
     ]
    }
   ],
   "source": [
    "tuple1 = (1,2,3,4,4,5)\n",
    "print(tuple1[2])"
   ]
  },
  {
   "cell_type": "code",
   "execution_count": 7,
   "metadata": {},
   "outputs": [
    {
     "name": "stdout",
     "output_type": "stream",
     "text": [
      "2\n",
      "3\n",
      "4\n",
      "6\n",
      "5\n",
      "7\n",
      "89\n",
      "0\n"
     ]
    }
   ],
   "source": [
    "tuple2 = (2,3,4,6,5,7,89,0)\n",
    "for i in tuple2:\n",
    "    print(i)"
   ]
  },
  {
   "cell_type": "code",
   "execution_count": 13,
   "metadata": {},
   "outputs": [
    {
     "ename": "TypeError",
     "evalue": "'tuple' object does not support item assignment",
     "output_type": "error",
     "traceback": [
      "\u001b[1;31m---------------------------------------------------------------------------\u001b[0m",
      "\u001b[1;31mTypeError\u001b[0m                                 Traceback (most recent call last)",
      "\u001b[1;32m<ipython-input-13-8f820f758c41>\u001b[0m in \u001b[0;36m<module>\u001b[1;34m\u001b[0m\n\u001b[0;32m      3\u001b[0m \u001b[0mthistuple\u001b[0m \u001b[1;33m=\u001b[0m \u001b[1;33m(\u001b[0m\u001b[1;34m\"saheel\"\u001b[0m \u001b[1;33m,\u001b[0m \u001b[1;34m\" suresh\"\u001b[0m\u001b[1;33m,\u001b[0m \u001b[1;34m\"bobde \"\u001b[0m\u001b[1;33m)\u001b[0m\u001b[1;33m\u001b[0m\u001b[1;33m\u001b[0m\u001b[0m\n\u001b[0;32m      4\u001b[0m \u001b[1;33m\u001b[0m\u001b[0m\n\u001b[1;32m----> 5\u001b[1;33m \u001b[0mthistuple\u001b[0m\u001b[1;33m[\u001b[0m\u001b[1;36m3\u001b[0m\u001b[1;33m]\u001b[0m \u001b[1;33m=\u001b[0m \u001b[1;34m\"helo\"\u001b[0m\u001b[1;33m\u001b[0m\u001b[1;33m\u001b[0m\u001b[0m\n\u001b[0m",
      "\u001b[1;31mTypeError\u001b[0m: 'tuple' object does not support item assignment"
     ]
    }
   ],
   "source": [
    "#REMEMBER : tuple is unchangeable \n",
    "\n",
    "thistuple = (\"saheel\" , \" suresh\", \"bobde \") \n",
    "\n",
    "thistuple[3] = \"hello\""
   ]
  },
  {
   "cell_type": "code",
   "execution_count": 18,
   "metadata": {},
   "outputs": [
    {
     "name": "stdout",
     "output_type": "stream",
     "text": [
      "(4, 6, 5, 7, 89, 0, 9, 8)\n"
     ]
    }
   ],
   "source": [
    "tuple2 = (2,3,4,6,5,7,89,0,9,8,12,34,56,60)\n",
    "\n",
    "print(tuple2[2:10:1])"
   ]
  },
  {
   "cell_type": "code",
   "execution_count": 27,
   "metadata": {},
   "outputs": [
    {
     "name": "stdout",
     "output_type": "stream",
     "text": [
      "2\n"
     ]
    }
   ],
   "source": [
    "tuple1 = [1,2,3,4,4,1,2]\n",
    "\n",
    "for i in tuple1[0:6]:\n",
    "    for j in tuple1[1:7]:\n",
    "        if i==j:\n",
    "            count = tuple1.count(i)\n",
    "             \n",
    "       \n",
    "            \n",
    "print(count)"
   ]
  },
  {
   "cell_type": "code",
   "execution_count": 33,
   "metadata": {},
   "outputs": [
    {
     "name": "stdout",
     "output_type": "stream",
     "text": [
      "check the item : 5\n"
     ]
    }
   ],
   "source": [
    "tuplex = [1,4,5,6,7,9,\"saheel\"]\n",
    "i = input(\"check the item : \")\n",
    "if i in tuplex:\n",
    "    print(\"yes its there ...!!!!\")\n",
    "# else:\n",
    "#     print(\"not there ....!!!!\")"
   ]
  },
  {
   "cell_type": "code",
   "execution_count": 37,
   "metadata": {},
   "outputs": [
    {
     "name": "stdout",
     "output_type": "stream",
     "text": [
      "5\n"
     ]
    }
   ],
   "source": [
    "def countx(tup, en):\n",
    "    return tup.count(en)\n",
    "\n",
    "tup =(1,3,5,3,4,4,5,5,5,5,9)\n",
    "cnt = countx( tup , 5)\n",
    "print(cnt)"
   ]
  },
  {
   "cell_type": "code",
   "execution_count": 50,
   "metadata": {},
   "outputs": [
    {
     "name": "stdout",
     "output_type": "stream",
     "text": [
      "Enter the element u wanna search56\n",
      "yes\n"
     ]
    }
   ],
   "source": [
    "element = input(\"Enter the element u wanna search\")\n",
    "def find(element):\n",
    "    tuplex = (\"saheel\", \"a \", 1 , 56, 78,9,0,\"heyu\")\n",
    "    if element in tuplex:\n",
    "        print(\"yes\")\n",
    "find(\"saheel\")        "
   ]
  },
  {
   "cell_type": "code",
   "execution_count": 51,
   "metadata": {},
   "outputs": [],
   "source": [
    "tuplex = (\"saheel\", \"a \", 1 , 56, 78,9,0,\"heyu\")\n",
    "listx = list(tuplex)"
   ]
  },
  {
   "cell_type": "code",
   "execution_count": null,
   "metadata": {},
   "outputs": [],
   "source": [
    "tuplex"
   ]
  },
  {
   "cell_type": "code",
   "execution_count": 52,
   "metadata": {},
   "outputs": [
    {
     "data": {
      "text/plain": [
       "['saheel', 'a ', 1, 56, 78, 9, 0, 'heyu']"
      ]
     },
     "execution_count": 52,
     "metadata": {},
     "output_type": "execute_result"
    }
   ],
   "source": [
    "listx"
   ]
  },
  {
   "cell_type": "code",
   "execution_count": 57,
   "metadata": {},
   "outputs": [],
   "source": [
    "\n",
    "listx.remove(\"saheel\")\n"
   ]
  },
  {
   "cell_type": "code",
   "execution_count": 58,
   "metadata": {},
   "outputs": [
    {
     "name": "stdout",
     "output_type": "stream",
     "text": [
      "['a ', 1, 78, 9, 0, 'heyu']\n"
     ]
    }
   ],
   "source": [
    "\n",
    "print(listx)"
   ]
  },
  {
   "cell_type": "code",
   "execution_count": null,
   "metadata": {},
   "outputs": [],
   "source": [
    "l = [(\"x\", 1), (\"x\", 2), (\"x\", 3), (\"y\", 1), (\"y\", 2), (\"z\", 1)]\n",
    "d = {}\n",
    "for a , b in l:\n",
    "    "
   ]
  }
 ],
 "metadata": {
  "kernelspec": {
   "display_name": "Python 3",
   "language": "python",
   "name": "python3"
  },
  "language_info": {
   "codemirror_mode": {
    "name": "ipython",
    "version": 3
   },
   "file_extension": ".py",
   "mimetype": "text/x-python",
   "name": "python",
   "nbconvert_exporter": "python",
   "pygments_lexer": "ipython3",
   "version": "3.7.3"
  }
 },
 "nbformat": 4,
 "nbformat_minor": 2
}
