{
 "cells": [
  {
   "cell_type": "code",
   "execution_count": 1,
   "metadata": {},
   "outputs": [],
   "source": [
    "from random import randint, choice  #<-- used during random ip address generation\n",
    "import requests as rq               #<-- for api requests\n",
    "import json, os, csv                #<-- For file operations\n",
    "from tqdm import tqdm               #<-- Progressbar module"
   ]
  },
  {
   "cell_type": "code",
   "execution_count": 2,
   "metadata": {},
   "outputs": [],
   "source": [
    "class IP_Generator:\n",
    "    # This Class can be replaced by Faker module but i will keep this, why not!\n",
    "    @staticmethod\n",
    "    def generate_public_IP(count=1):\n",
    "        \n",
    "        #following list is for all possible ranges of public IPs in class A, B and C\n",
    "        public_ip_ranges = [[(1, 9), (0, 255), (0, 255), (0, 255)],\n",
    "                            [(11, 126), (255, 255), (255, 255), (255, 255)],\n",
    "                            [(128, 168), (0, 255), (0, 255), (0, 255)],\n",
    "                            [(169, 169), (0, 253), (0, 255), (0, 255)],\n",
    "                            [(169, 169), (255, 255), (0, 255), (0, 255)],\n",
    "                            [(170, 171), (0, 255), (0, 255), (0, 255)],\n",
    "                            [(172, 172), (0, 15), (0, 255), (0, 255)],\n",
    "                            [(172, 172), (32, 255), (0, 255), (0, 255)],\n",
    "                            [(173, 191), (0, 255), (0, 255), (0, 255)],\n",
    "                            [(192, 192), (0, 167), (0, 255), (0, 255)],\n",
    "                            [(193, 223), (0, 255), (0, 255), (0, 255)]\n",
    "                           ]\n",
    "        \n",
    "        #intiating IP_set to get all unique IPs [Just in case!]\n",
    "        IP_set = set()\n",
    "        while len(IP_set) < count:\n",
    "            ch = choice(public_ip_ranges)\n",
    "            ip = \".\".join([str(randint(*ch[0])),\n",
    "                        str(randint(*ch[1])),\n",
    "                        str(randint(*ch[2])),\n",
    "                        str(randint(*ch[3])) ])\n",
    "\n",
    "            IP_set.add(ip)\n",
    "\n",
    "        return list(IP_set)\n",
    "\n",
    "    @staticmethod\n",
    "    def generate_any_IP(count=1):\n",
    "        IP_set = set()\n",
    "        while len(IP_set) < count:\n",
    "            ip = \".\".join([str(randint(1, 255)),\n",
    "                        str(randint(0, 255)),\n",
    "                        str(randint(0, 255)),\n",
    "                        str(randint(0, 255)) ])\n",
    "\n",
    "            IP_set.add(ip)\n",
    "\n",
    "        return list(IP_set)"
   ]
  },
  {
   "cell_type": "code",
   "execution_count": 3,
   "metadata": {},
   "outputs": [],
   "source": [
    "class IP_locator:\n",
    "    def __init__(self, IP_list, *args):\n",
    "        self.IP_list = IP_list\n",
    "        self.fields = args\n",
    "\n",
    "    def get_location(self):\n",
    "        location_info = []\n",
    "        \n",
    "        access_key = \"<Your API Key here>\"\n",
    "        request_url = \"http://api.ipstack.com/{}?access_key=\"+access_key\n",
    "        \n",
    "        if len(self.fields):\n",
    "            request_url += \"&fields=\" + \",\".join(self.fields)\n",
    "\n",
    "        for ip in tqdm(self.IP_list):\n",
    "            data = json.loads(rq.get(request_url.format(ip)).text)\n",
    "            location_info.append(data)\n",
    "\n",
    "        return location_info"
   ]
  },
  {
   "cell_type": "code",
   "execution_count": 4,
   "metadata": {},
   "outputs": [],
   "source": [
    "class Logger:\n",
    "    def __init__(self, file_name):\n",
    "        self.file_name = file_name\n",
    "\n",
    "    def log_csv(self, data_list):\n",
    "        extension = \".csv\"\n",
    "        try:\n",
    "            if not os.path.exists(self.file_name+extension):\n",
    "                with open(self.file_name + extension, \"a+\") as file:\n",
    "                    fields = []\n",
    "                    fields.extend(data_list[0].keys())\n",
    "\n",
    "                    csv_file = csv.writer(file, delimiter=\",\")\n",
    "                    csv_file.writerow(fields)\n",
    "\n",
    "            with open(self.file_name + extension, \"a+\") as file:\n",
    "                csv_file = csv.writer(file, delimiter=\",\")\n",
    "\n",
    "                for i in tqdm(data_list):\n",
    "                    row = []\n",
    "                    row.extend(i.values())\n",
    "                    csv_file.writerow(row)\n",
    "            return True\n",
    "\n",
    "        except Exception as e:\n",
    "            print(e)\n",
    "            return False\n",
    "\n",
    "    def log_txt(self, data_list):\n",
    "        extension = \".txt\"\n",
    "        try:\n",
    "            with open(self.file_name + extension, \"a+\") as txt_file:\n",
    "                for record in tqdm(data_list):\n",
    "                    data_line = json.dumps(record) + \"\\n\\n\"\n",
    "                    txt_file.write(data_line)\n",
    "            return True\n",
    "\n",
    "        except Exception as e:\n",
    "            return False\n",
    "\n",
    "\n",
    "    def read_txt_data(self):\n",
    "        extension = \".txt\"\n",
    "        try:\n",
    "            with open(self.file_name + extension, \"r\") as txt_file:\n",
    "                file_data = txt_file.read()\n",
    "                \n",
    "                if len(file_data) == 0:\n",
    "                    return 0\n",
    "                \n",
    "                string_records = file_data.split(\"\\n\\n\")[:-1]\n",
    "                records_list = []\n",
    "                for i in string_records:\n",
    "                    records_list.append(json.loads(i))\n",
    "                return records_list\n",
    "        except Exception as e:\n",
    "#             print(e)\n",
    "            return False"
   ]
  },
  {
   "cell_type": "code",
   "execution_count": 5,
   "metadata": {},
   "outputs": [],
   "source": [
    "def main():\n",
    "    count = int(input(\"Enter count of IPs to LOG :\"))\n",
    "    IP_list = IP_Generator.generate_public_IP(count=count)\n",
    "    \n",
    "    print(\"\\nGetting Geolocations of \"+str(count)+\" IP(s)...\\n\")\n",
    "\n",
    "    locator = IP_locator(IP_list, \"ip\", \"city\", \"region_name\", \"country_name\")\n",
    "    location_data = locator.get_location()\n",
    "    \n",
    "\n",
    "    print(\"\\n\\nLogging data to file...\")\n",
    "\n",
    "    logger_obj = Logger(\"IP_locations\")\n",
    "#     if logger_obj.log_csv(location_data):\n",
    "#         print(\"CSV File Done!\")\n",
    "#     else :\n",
    "#         print(\"Some Problem Occured while Logging CSV File!\")\n",
    "    if logger_obj.log_txt(location_data):\n",
    "        print(\"Text File Done!\")\n",
    "    else :\n",
    "        print(\"Some Problem Occured while Logging Txt File!\")\n",
    "        \n",
    "    file_data = logger_obj.read_txt_data()\n",
    "    if file_data:\n",
    "        print(\"\\n\" + \"-\"*15 + \" Text File Data \" + \"-\"*15 + \"\\n\")\n",
    "        for record in file_data:\n",
    "            print(\"  IP Address : \" + record['ip'])\n",
    "            print(\"\\tCity :\" + record['city'])\n",
    "            print(\"\\tRegion : \" + record['region_name'])\n",
    "            print(\"\\tCountry : \" + record['country_name'] + \"\\n\")"
   ]
  },
  {
   "cell_type": "code",
   "execution_count": 6,
   "metadata": {
    "scrolled": true
   },
   "outputs": [
    {
     "name": "stdout",
     "output_type": "stream",
     "text": [
      "Enter count of IPs to LOG :200\n",
      "\n",
      "Getting Geolocations of 200 IP(s)...\n",
      "\n"
     ]
    },
    {
     "name": "stderr",
     "output_type": "stream",
     "text": [
      "100%|████████████████████████████████████████████████████████████████████████████████| 200/200 [02:11<00:00,  1.52it/s]\n"
     ]
    },
    {
     "name": "stdout",
     "output_type": "stream",
     "text": [
      "\n",
      "\n",
      "Logging data to file...\n"
     ]
    },
    {
     "name": "stderr",
     "output_type": "stream",
     "text": [
      "100%|█████████████████████████████████████████████████████████████████████████████| 200/200 [00:00<00:00, 27722.69it/s]\n"
     ]
    },
    {
     "name": "stdout",
     "output_type": "stream",
     "text": [
      "Text File Done!\n",
      "\n",
      "--------------- Text File Data ---------------\n",
      "\n",
      "  IP Address : 181.7.163.34\n",
      "\tCity :Buenos Aires\n",
      "\tRegion : Buenos Aires F.D.\n",
      "\tCountry : Argentina\n",
      "\n",
      "  IP Address : 192.82.63.85\n",
      "\tCity :Putrajaya\n",
      "\tRegion : Putrajaya\n",
      "\tCountry : Malaysia\n",
      "\n",
      "  IP Address : 1.40.1.42\n",
      "\tCity :Parramatta\n",
      "\tRegion : New South Wales\n",
      "\tCountry : Australia\n",
      "\n",
      "  IP Address : 172.217.159.122\n",
      "\tCity :Mountain View\n",
      "\tRegion : California\n",
      "\tCountry : United States\n",
      "\n",
      "  IP Address : 169.253.186.237\n",
      "\tCity :Shaw\n",
      "\tRegion : Washington\n",
      "\tCountry : United States\n",
      "\n",
      "  IP Address : 169.255.80.161\n",
      "\tCity :Gaborone\n",
      "\tRegion : Gaborone\n",
      "\tCountry : Botswana\n",
      "\n",
      "  IP Address : 6.237.195.66\n"
     ]
    },
    {
     "ename": "TypeError",
     "evalue": "can only concatenate str (not \"NoneType\") to str",
     "output_type": "error",
     "traceback": [
      "\u001b[1;31m---------------------------------------------------------------------------\u001b[0m",
      "\u001b[1;31mTypeError\u001b[0m                                 Traceback (most recent call last)",
      "\u001b[1;32m<ipython-input-6-263240bbee7e>\u001b[0m in \u001b[0;36m<module>\u001b[1;34m\u001b[0m\n\u001b[1;32m----> 1\u001b[1;33m \u001b[0mmain\u001b[0m\u001b[1;33m(\u001b[0m\u001b[1;33m)\u001b[0m\u001b[1;33m\u001b[0m\u001b[1;33m\u001b[0m\u001b[0m\n\u001b[0m",
      "\u001b[1;32m<ipython-input-5-3d8d34563e65>\u001b[0m in \u001b[0;36mmain\u001b[1;34m()\u001b[0m\n\u001b[0;32m     26\u001b[0m         \u001b[1;32mfor\u001b[0m \u001b[0mrecord\u001b[0m \u001b[1;32min\u001b[0m \u001b[0mfile_data\u001b[0m\u001b[1;33m:\u001b[0m\u001b[1;33m\u001b[0m\u001b[1;33m\u001b[0m\u001b[0m\n\u001b[0;32m     27\u001b[0m             \u001b[0mprint\u001b[0m\u001b[1;33m(\u001b[0m\u001b[1;34m\"  IP Address : \"\u001b[0m \u001b[1;33m+\u001b[0m \u001b[0mrecord\u001b[0m\u001b[1;33m[\u001b[0m\u001b[1;34m'ip'\u001b[0m\u001b[1;33m]\u001b[0m\u001b[1;33m)\u001b[0m\u001b[1;33m\u001b[0m\u001b[1;33m\u001b[0m\u001b[0m\n\u001b[1;32m---> 28\u001b[1;33m             \u001b[0mprint\u001b[0m\u001b[1;33m(\u001b[0m\u001b[1;34m\"\\tCity :\"\u001b[0m \u001b[1;33m+\u001b[0m \u001b[0mrecord\u001b[0m\u001b[1;33m[\u001b[0m\u001b[1;34m'city'\u001b[0m\u001b[1;33m]\u001b[0m\u001b[1;33m)\u001b[0m\u001b[1;33m\u001b[0m\u001b[1;33m\u001b[0m\u001b[0m\n\u001b[0m\u001b[0;32m     29\u001b[0m             \u001b[0mprint\u001b[0m\u001b[1;33m(\u001b[0m\u001b[1;34m\"\\tRegion : \"\u001b[0m \u001b[1;33m+\u001b[0m \u001b[0mrecord\u001b[0m\u001b[1;33m[\u001b[0m\u001b[1;34m'region_name'\u001b[0m\u001b[1;33m]\u001b[0m\u001b[1;33m)\u001b[0m\u001b[1;33m\u001b[0m\u001b[1;33m\u001b[0m\u001b[0m\n\u001b[0;32m     30\u001b[0m             \u001b[0mprint\u001b[0m\u001b[1;33m(\u001b[0m\u001b[1;34m\"\\tCountry : \"\u001b[0m \u001b[1;33m+\u001b[0m \u001b[0mrecord\u001b[0m\u001b[1;33m[\u001b[0m\u001b[1;34m'country_name'\u001b[0m\u001b[1;33m]\u001b[0m \u001b[1;33m+\u001b[0m \u001b[1;34m\"\\n\"\u001b[0m\u001b[1;33m)\u001b[0m\u001b[1;33m\u001b[0m\u001b[1;33m\u001b[0m\u001b[0m\n",
      "\u001b[1;31mTypeError\u001b[0m: can only concatenate str (not \"NoneType\") to str"
     ]
    }
   ],
   "source": [
    "main()"
   ]
  },
  {
   "cell_type": "code",
   "execution_count": null,
   "metadata": {},
   "outputs": [],
   "source": []
  }
 ],
 "metadata": {
  "kernelspec": {
   "display_name": "Python 3",
   "language": "python",
   "name": "python3"
  },
  "language_info": {
   "codemirror_mode": {
    "name": "ipython",
    "version": 3
   },
   "file_extension": ".py",
   "mimetype": "text/x-python",
   "name": "python",
   "nbconvert_exporter": "python",
   "pygments_lexer": "ipython3",
   "version": "3.7.4"
  }
 },
 "nbformat": 4,
 "nbformat_minor": 2
}
