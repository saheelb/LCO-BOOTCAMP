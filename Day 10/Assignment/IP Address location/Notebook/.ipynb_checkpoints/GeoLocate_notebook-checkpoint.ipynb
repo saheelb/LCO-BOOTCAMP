{
 "cells": [
  {
   "cell_type": "code",
   "execution_count": 1,
   "metadata": {},
   "outputs": [],
   "source": [
    "from random import randint, choice  #<-- used during random ip address generation\n",
    "import requests as rq               #<-- for api requests\n",
    "import json, os, csv                #<-- For file operations\n",
    "from tqdm import tqdm               #<-- Progressbar module"
   ]
  },
  {
   "cell_type": "code",
   "execution_count": 2,
   "metadata": {},
   "outputs": [],
   "source": [
    "class IP_Generator:\n",
    "    # This Class can be replaced by Faker module but i will keep this, why not!\n",
    "    @staticmethod\n",
    "    def generate_public_IP(count=1):\n",
    "        \n",
    "        #following list is for all possible ranges of public IPs.\n",
    "        public_ip_ranges = [[(1, 9), (0, 255), (0, 255), (0, 255)],\n",
    "                            [(11, 126), (255, 255), (255, 255), (255, 255)],\n",
    "                            [(128, 168), (0, 255), (0, 255), (0, 255)],\n",
    "                            [(169, 169), (0, 253), (0, 255), (0, 255)],\n",
    "                            [(169, 169), (255, 255), (0, 255), (0, 255)],\n",
    "                            [(170, 171), (0, 255), (0, 255), (0, 255)],\n",
    "                            [(172, 172), (0, 15), (0, 255), (0, 255)],\n",
    "                            [(172, 172), (32, 255), (0, 255), (0, 255)],\n",
    "                            [(173, 191), (0, 255), (0, 255), (0, 255)],\n",
    "                            [(192, 192), (0, 167), (0, 255), (0, 255)],\n",
    "                            [(193, 223), (0, 255), (0, 255), (0, 255)]\n",
    "                           ]\n",
    "\n",
    "        IP_set = set()\n",
    "        while len(IP_set) < count:\n",
    "            ch = choice(public_ip_ranges)\n",
    "            ip = \".\".join([str(randint(*ch[0])),\n",
    "                        str(randint(*ch[1])),\n",
    "                        str(randint(*ch[2])),\n",
    "                        str(randint(*ch[3])) ])\n",
    "\n",
    "            IP_set.add(ip)\n",
    "\n",
    "        return list(IP_set)\n",
    "\n",
    "    @staticmethod\n",
    "    def generate_any_IP(count=1):\n",
    "        IP_set = set()\n",
    "        while len(IP_set) < count:\n",
    "            ip = \".\".join([str(randint(1, 255)),\n",
    "                        str(randint(0, 255)),\n",
    "                        str(randint(0, 255)),\n",
    "                        str(randint(0, 255)) ])\n",
    "\n",
    "            IP_set.add(ip)\n",
    "\n",
    "        return list(IP_set)"
   ]
  },
  {
   "cell_type": "code",
   "execution_count": 3,
   "metadata": {},
   "outputs": [],
   "source": [
    "class IP_locator:\n",
    "    def __init__(self, IP_list, *args):\n",
    "        self.IP_list = IP_list\n",
    "        self.fields = args\n",
    "\n",
    "    def get_location(self):\n",
    "        location_info = []\n",
    "        \n",
    "        access_key = \"7af3fc4a2d172c72ee8fa10e980dca70\"\n",
    "        request_url = \"http://api.ipstack.com/{}?access_key=\"+access_key\n",
    "        \n",
    "        if len(self.fields):\n",
    "            request_url += \"&fields=\" + \",\".join(self.fields)\n",
    "\n",
    "        for ip in tqdm(self.IP_list):\n",
    "            data = json.loads(rq.get(request_url.format(ip)).text)\n",
    "            data['ip_address'] = ip\n",
    "            location_info.append(data)\n",
    "\n",
    "        return location_info"
   ]
  },
  {
   "cell_type": "code",
   "execution_count": 9,
   "metadata": {},
   "outputs": [],
   "source": [
    "class Logger:\n",
    "    def __init__(self, file_name):\n",
    "        self.file_name = file_name\n",
    "\n",
    "    def log_csv(self, data_list):\n",
    "        extension = \".csv\"\n",
    "        try:\n",
    "            if not os.path.exists(self.file_name+extension):\n",
    "                with open(self.file_name + extension, \"a+\") as file:\n",
    "                    fields = []\n",
    "                    fields.extend(data_list[0].keys())\n",
    "\n",
    "                    csv_file = csv.writer(file, delimiter=\",\")\n",
    "                    csv_file.writerow(fields)\n",
    "\n",
    "            with open(self.file_name + extension, \"a+\") as file:\n",
    "                csv_file = csv.writer(file, delimiter=\",\")\n",
    "\n",
    "                for i in tqdm(data_list):\n",
    "                    row = []\n",
    "                    row.extend(i.values())\n",
    "                    csv_file.writerow(row)\n",
    "            return True\n",
    "\n",
    "        except Exception as e:\n",
    "            print(e)\n",
    "            return False\n",
    "\n",
    "    def log_txt(self, data_list):\n",
    "        extension = \".txt\"\n",
    "        try:\n",
    "            with open(self.file_name + extension, \"a+\") as txt_file:\n",
    "                for record in tqdm(data_list):\n",
    "                    data_line = json.dumps(record) + \"\\n\\n\"\n",
    "                    txt_file.write(data_line)\n",
    "            return True\n",
    "\n",
    "        except Exception as e:\n",
    "            return False\n",
    "\n",
    "\n",
    "    def read_data(self):\n",
    "        pass"
   ]
  },
  {
   "cell_type": "code",
   "execution_count": 13,
   "metadata": {},
   "outputs": [],
   "source": [
    "def main():\n",
    "    count = 2\n",
    "    IP_list = IP_Generator.generate_public_IP(count=count)\n",
    "    \n",
    "    print(\"\\nGetting Geolocations of \"+str(count)+\" IP(s)...\\n\")\n",
    "\n",
    "    locator = IP_locator(IP_list, \"IP\", \"city\", \"region_name\", \"country_name\")\n",
    "    location_data = locator.get_location()\n",
    "    \n",
    "\n",
    "    print(\"\\n\\nLogging data to file...\")\n",
    "\n",
    "    logger_obj = Logger(\"IP_locations\")\n",
    "#     if logger_obj.log_csv(location_data):\n",
    "#         print(\"CSV File Done!\")\n",
    "#     else :\n",
    "#         print(\"Some Problem Occured while Logging CSV File!\")\n",
    "    if logger_obj.log_txt(location_data):\n",
    "        print(\"Text File Done!\")\n",
    "    else :\n",
    "        print(\"Some Problem Occured while Logging Txt File!\")"
   ]
  },
  {
   "cell_type": "code",
   "execution_count": 14,
   "metadata": {
    "scrolled": true
   },
   "outputs": [
    {
     "name": "stdout",
     "output_type": "stream",
     "text": [
      "\n",
      "Getting Geolocations of 2 IP(s)...\n",
      "\n"
     ]
    },
    {
     "name": "stderr",
     "output_type": "stream",
     "text": [
      "100%|████████████████████████████████████████████████████████████████████████████████████| 2/2 [00:07<00:00,  3.69s/it]\n"
     ]
    },
    {
     "name": "stdout",
     "output_type": "stream",
     "text": [
      "\n",
      "\n",
      "Logging data to file...\n"
     ]
    },
    {
     "name": "stderr",
     "output_type": "stream",
     "text": [
      "100%|██████████████████████████████████████████████████████████████████████████████████| 2/2 [00:00<00:00, 2909.68it/s]\n"
     ]
    },
    {
     "name": "stdout",
     "output_type": "stream",
     "text": [
      "Text File Done!\n"
     ]
    }
   ],
   "source": [
    "main()"
   ]
  },
  {
   "cell_type": "code",
   "execution_count": null,
   "metadata": {},
   "outputs": [],
   "source": []
  }
 ],
 "metadata": {
  "kernelspec": {
   "display_name": "Python 3",
   "language": "python",
   "name": "python3"
  },
  "language_info": {
   "codemirror_mode": {
    "name": "ipython",
    "version": 3
   },
   "file_extension": ".py",
   "mimetype": "text/x-python",
   "name": "python",
   "nbconvert_exporter": "python",
   "pygments_lexer": "ipython3",
   "version": "3.7.4"
  }
 },
 "nbformat": 4,
 "nbformat_minor": 2
}
