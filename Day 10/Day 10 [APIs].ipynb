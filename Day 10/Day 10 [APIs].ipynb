{
 "cells": [
  {
   "cell_type": "markdown",
   "metadata": {},
   "source": [
    "# Day 10"
   ]
  },
  {
   "cell_type": "markdown",
   "metadata": {},
   "source": [
    "### API \n",
    "#### [Application Program Interface]"
   ]
  },
  {
   "cell_type": "code",
   "execution_count": 1,
   "metadata": {},
   "outputs": [],
   "source": [
    "import requests as rq"
   ]
  },
  {
   "cell_type": "code",
   "execution_count": 2,
   "metadata": {},
   "outputs": [],
   "source": [
    "#fetching data from server GET\n",
    "data = rq.get(\"https://jsonplaceholder.typicode.com/todos/1\")"
   ]
  },
  {
   "cell_type": "code",
   "execution_count": 3,
   "metadata": {},
   "outputs": [
    {
     "data": {
      "text/plain": [
       "200"
      ]
     },
     "execution_count": 3,
     "metadata": {},
     "output_type": "execute_result"
    }
   ],
   "source": [
    "data.status_code\n",
    "#200 means valid https response"
   ]
  },
  {
   "cell_type": "code",
   "execution_count": 4,
   "metadata": {},
   "outputs": [
    {
     "data": {
      "text/plain": [
       "'{\\n  \"userId\": 1,\\n  \"id\": 1,\\n  \"title\": \"delectus aut autem\",\\n  \"completed\": false\\n}'"
      ]
     },
     "execution_count": 4,
     "metadata": {},
     "output_type": "execute_result"
    }
   ],
   "source": [
    "# Printing response in text format\n",
    "data.text"
   ]
  },
  {
   "cell_type": "code",
   "execution_count": 9,
   "metadata": {},
   "outputs": [
    {
     "name": "stdout",
     "output_type": "stream",
     "text": [
      "1\n",
      "delectus aut autem\n"
     ]
    }
   ],
   "source": [
    "#Parsing response data using json module\n",
    "import json\n",
    "j = json.loads(data.text)\n",
    "print(j['id'])\n",
    "print(j['title'])"
   ]
  },
  {
   "cell_type": "code",
   "execution_count": 14,
   "metadata": {},
   "outputs": [
    {
     "data": {
      "text/plain": [
       "{'results': [{'gender': 'male',\n",
       "   'name': {'title': 'Mr', 'first': 'Albert', 'last': 'Nielsen'},\n",
       "   'location': {'street': {'number': 9173, 'name': 'Højbjergvej'},\n",
       "    'city': 'Nr Åby',\n",
       "    'state': 'Hovedstaden',\n",
       "    'country': 'Denmark',\n",
       "    'postcode': 37267,\n",
       "    'coordinates': {'latitude': '-33.0966', 'longitude': '-93.4863'},\n",
       "    'timezone': {'offset': '-3:30', 'description': 'Newfoundland'}},\n",
       "   'email': 'albert.nielsen@example.com',\n",
       "   'login': {'uuid': '095e5834-d3b8-4fab-bcc6-cce34cce796d',\n",
       "    'username': 'silverkoala827',\n",
       "    'password': 'sable',\n",
       "    'salt': '2pSF0OSE',\n",
       "    'md5': 'a0a64dbbff095c9c634b9e957fb1bc5a',\n",
       "    'sha1': 'c3acf855009669acbd61de11f279bc910a2b53ec',\n",
       "    'sha256': '1f071bcd5d52cb57f3c03c7f9f9fc64ead4d8f99988c02f7e7d7db8c73e9a739'},\n",
       "   'dob': {'date': '1985-06-28T18:40:27.443Z', 'age': 34},\n",
       "   'registered': {'date': '2018-08-14T18:55:17.840Z', 'age': 1},\n",
       "   'phone': '37784548',\n",
       "   'cell': '67866549',\n",
       "   'id': {'name': 'CPR', 'value': '280685-0126'},\n",
       "   'picture': {'large': 'https://randomuser.me/api/portraits/men/20.jpg',\n",
       "    'medium': 'https://randomuser.me/api/portraits/med/men/20.jpg',\n",
       "    'thumbnail': 'https://randomuser.me/api/portraits/thumb/men/20.jpg'},\n",
       "   'nat': 'DK'}],\n",
       " 'info': {'seed': '51d13874be33080c',\n",
       "  'results': 1,\n",
       "  'page': 1,\n",
       "  'version': '1.3'}}"
      ]
     },
     "execution_count": 14,
     "metadata": {},
     "output_type": "execute_result"
    }
   ],
   "source": [
    "# CW\n",
    "user_data = json.loads(rq.get(\"https://randomuser.me/api\").text)\n",
    "user_data"
   ]
  },
  {
   "cell_type": "code",
   "execution_count": 19,
   "metadata": {},
   "outputs": [],
   "source": [
    "user_name = user_data['results'][0]['name'].values()\n",
    "user_full_name = \"\"\n",
    "for i in user_name:\n",
    "    user_full_name += i + \" \"\n",
    "    \n",
    "user_email = user_data['results'][0]['email']\n",
    "user_phone = user_data['results'][0]['phone']\n",
    "user_age = user_data['results'][0]['dob']['age']"
   ]
  },
  {
   "cell_type": "code",
   "execution_count": 21,
   "metadata": {},
   "outputs": [
    {
     "name": "stdout",
     "output_type": "stream",
     "text": [
      "Name :  Mr Albert Nielsen \n",
      "Email :  albert.nielsen@example.com\n",
      "Phone :  37784548\n",
      "Age :  34\n"
     ]
    }
   ],
   "source": [
    "print(\"Name : \",user_full_name)\n",
    "print(\"Email : \",user_email)\n",
    "print(\"Phone : \",user_phone)\n",
    "print(\"Age : \",user_age)"
   ]
  },
  {
   "cell_type": "code",
   "execution_count": null,
   "metadata": {},
   "outputs": [],
   "source": []
  }
 ],
 "metadata": {
  "kernelspec": {
   "display_name": "Python 3",
   "language": "python",
   "name": "python3"
  },
  "language_info": {
   "codemirror_mode": {
    "name": "ipython",
    "version": 3
   },
   "file_extension": ".py",
   "mimetype": "text/x-python",
   "name": "python",
   "nbconvert_exporter": "python",
   "pygments_lexer": "ipython3",
   "version": "3.7.4"
  }
 },
 "nbformat": 4,
 "nbformat_minor": 2
}
