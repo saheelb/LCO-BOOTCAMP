{
 "cells": [
  {
   "cell_type": "markdown",
   "metadata": {
    "colab_type": "text",
    "id": "VbEXbiKoOfgd"
   },
   "source": [
    "# Day 32"
   ]
  },
  {
   "cell_type": "markdown",
   "metadata": {
    "colab_type": "text",
    "id": "gyWNC5lNO0Eo"
   },
   "source": [
    "### Decision Tree"
   ]
  },
  {
   "cell_type": "code",
   "execution_count": 1,
   "metadata": {
    "colab": {},
    "colab_type": "code",
    "id": "USIXfCHHN7Zf"
   },
   "outputs": [],
   "source": [
    "from sklearn import tree\n",
    "from sklearn.datasets import load_iris\n",
    "import matplotlib.pyplot as plt\n",
    "import numpy as np\n",
    "import pandas as pd\n",
    "import graphviz"
   ]
  },
  {
   "cell_type": "code",
   "execution_count": 2,
   "metadata": {
    "colab": {
     "base_uri": "https://localhost:8080/",
     "height": 0
    },
    "colab_type": "code",
    "id": "GsehcvfHTMDn",
    "outputId": "c3b09dbf-4d0c-4ee5-cabe-5c7e5a674cf7"
   },
   "outputs": [
    {
     "data": {
      "text/plain": [
       "((150, 4), (150,))"
      ]
     },
     "execution_count": 2,
     "metadata": {},
     "output_type": "execute_result"
    }
   ],
   "source": [
    "iris = load_iris()\n",
    "x = iris['data']\n",
    "y = iris['target']\n",
    "(x.shape, y.shape)"
   ]
  },
  {
   "cell_type": "code",
   "execution_count": 3,
   "metadata": {},
   "outputs": [
    {
     "data": {
      "text/plain": [
       "numpy.ndarray"
      ]
     },
     "execution_count": 3,
     "metadata": {},
     "output_type": "execute_result"
    }
   ],
   "source": [
    "type(x)"
   ]
  },
  {
   "cell_type": "code",
   "execution_count": 4,
   "metadata": {
    "colab": {
     "base_uri": "https://localhost:8080/",
     "height": 0
    },
    "colab_type": "code",
    "id": "DYv_DPd1T90l",
    "outputId": "cbf4fecf-3d52-4c57-9660-04bfd3a1e9c7"
   },
   "outputs": [
    {
     "data": {
      "text/plain": [
       "1.0"
      ]
     },
     "execution_count": 4,
     "metadata": {},
     "output_type": "execute_result"
    }
   ],
   "source": [
    "Dtree = tree.DecisionTreeClassifier()\n",
    "Dtree.fit(x, y)\n",
    "Dtree.score(x, y)"
   ]
  },
  {
   "cell_type": "code",
   "execution_count": 5,
   "metadata": {
    "colab": {
     "base_uri": "https://localhost:8080/",
     "height": 0
    },
    "colab_type": "code",
    "id": "80SghxB8UcPs",
    "outputId": "f7e2f5a9-d9e5-4b9c-e77b-be99538113a5"
   },
   "outputs": [
    {
     "data": {
      "text/plain": [
       "array([0])"
      ]
     },
     "execution_count": 5,
     "metadata": {},
     "output_type": "execute_result"
    }
   ],
   "source": [
    "Dtree.predict([[5.2, 3.6, 1.1, 0.3]])"
   ]
  },
  {
   "cell_type": "code",
   "execution_count": 6,
   "metadata": {
    "colab": {},
    "colab_type": "code",
    "id": "jXBPbfe5Unbt"
   },
   "outputs": [],
   "source": [
    "# Exporting graphvis data from our tree\n",
    "tree_graph = tree.export_graphviz(Dtree, out_file=None, feature_names=iris.feature_names, class_names=iris.target_names,filled=True, rounded=True, special_characters=True)"
   ]
  },
  {
   "cell_type": "code",
   "execution_count": 7,
   "metadata": {
    "colab": {},
    "colab_type": "code",
    "id": "fsn6KnPeVnwN"
   },
   "outputs": [],
   "source": [
    "graph = graphviz.Source(tree_graph)"
   ]
  },
  {
   "cell_type": "code",
   "execution_count": 9,
   "metadata": {
    "colab": {
     "base_uri": "https://localhost:8080/",
     "height": 0
    },
    "colab_type": "code",
    "id": "sL1Xq0dCV6uF",
    "outputId": "0660cb77-56da-47e9-a11b-0131f70dafd2"
   },
   "outputs": [],
   "source": [
    "# graph.render(format='png')"
   ]
  },
  {
   "cell_type": "code",
   "execution_count": 11,
   "metadata": {
    "colab": {
     "base_uri": "https://localhost:8080/",
     "height": 0
    },
    "colab_type": "code",
    "id": "lf8gbXaxYFE8",
    "outputId": "d2468229-4a4d-4ec4-dc97-435ea53d1718"
   },
   "outputs": [],
   "source": [
    "# graph"
   ]
  },
  {
   "cell_type": "markdown",
   "metadata": {
    "colab_type": "text",
    "id": "n6ioSuhUZWKN"
   },
   "source": [
    "### Naive Bayes Classifier"
   ]
  },
  {
   "cell_type": "code",
   "execution_count": null,
   "metadata": {
    "colab": {},
    "colab_type": "code",
    "id": "Cl6ohqkCYFxY"
   },
   "outputs": [],
   "source": [
    "from sklearn.naive_bayes import BernoulliNB, GaussianNB, MultinomialNB"
   ]
  },
  {
   "cell_type": "code",
   "execution_count": 12,
   "metadata": {
    "colab": {},
    "colab_type": "code",
    "id": "WUfWdPD8eiO8"
   },
   "outputs": [],
   "source": [
    "x = iris.data\n",
    "y = iris.target"
   ]
  },
  {
   "cell_type": "markdown",
   "metadata": {
    "colab_type": "text",
    "id": "3Suksxbhe2kz"
   },
   "source": [
    "<h5>Bernoulli Naive Bayes<h5>"
   ]
  },
  {
   "cell_type": "code",
   "execution_count": null,
   "metadata": {
    "colab": {
     "base_uri": "https://localhost:8080/",
     "height": 34
    },
    "colab_type": "code",
    "id": "au_l33oGepXX",
    "outputId": "c316596e-c8cf-43fd-ef3e-3750a1ac6c89"
   },
   "outputs": [],
   "source": [
    "BNB = BernoulliNB()\n",
    "BNB.fit(x, y)\n",
    "BNB.score(x, y)"
   ]
  },
  {
   "cell_type": "markdown",
   "metadata": {
    "colab_type": "text",
    "id": "RWfkZtkhfMP0"
   },
   "source": [
    "<h5>Gaussian Naive Bayes<h5>"
   ]
  },
  {
   "cell_type": "code",
   "execution_count": null,
   "metadata": {
    "colab": {
     "base_uri": "https://localhost:8080/",
     "height": 34
    },
    "colab_type": "code",
    "id": "5GeewT0GfMP3",
    "outputId": "4cdfc18c-bf87-4959-8a37-d68bc30a508c"
   },
   "outputs": [],
   "source": [
    "GNB = GaussianNB()\n",
    "GNB.fit(x, y)\n",
    "GNB.score(x, y)"
   ]
  },
  {
   "cell_type": "markdown",
   "metadata": {
    "colab_type": "text",
    "id": "pdjK-iEGfaG7"
   },
   "source": [
    "<h5>Multinomial Naive Bayes<h5>"
   ]
  },
  {
   "cell_type": "code",
   "execution_count": null,
   "metadata": {
    "colab": {
     "base_uri": "https://localhost:8080/",
     "height": 34
    },
    "colab_type": "code",
    "id": "IshobW1pfaG8",
    "outputId": "dfb74a27-359f-492c-a4e5-063072414adc"
   },
   "outputs": [],
   "source": [
    "MNB = MultinomialNB()\n",
    "MNB.fit(x, y)\n",
    "MNB.score(x, y)"
   ]
  },
  {
   "cell_type": "markdown",
   "metadata": {
    "colab_type": "text",
    "id": "G3pTa3KXfozR"
   },
   "source": [
    "#### Prediction of some values using different Bayes Algorithms"
   ]
  },
  {
   "cell_type": "code",
   "execution_count": null,
   "metadata": {
    "colab": {},
    "colab_type": "code",
    "id": "-AwZM5MofoYT"
   },
   "outputs": [],
   "source": [
    "x_test = iris.data[10:100]"
   ]
  },
  {
   "cell_type": "code",
   "execution_count": null,
   "metadata": {
    "colab": {
     "base_uri": "https://localhost:8080/",
     "height": 334
    },
    "colab_type": "code",
    "id": "RB8arF_bgBH9",
    "outputId": "b1e1300a-63bd-4385-ae09-a5b40cc8a01a"
   },
   "outputs": [],
   "source": [
    "y_pred = [GNB.predict(x_test)-1, BNB.predict(x_test)-1, MNB.predict(x_test)-1]\n",
    "y_pred"
   ]
  },
  {
   "cell_type": "code",
   "execution_count": null,
   "metadata": {
    "colab": {
     "base_uri": "https://localhost:8080/",
     "height": 265
    },
    "colab_type": "code",
    "id": "XAfPNPR4gWHw",
    "outputId": "c42258e0-6ce1-4c81-d876-557bef070567"
   },
   "outputs": [],
   "source": [
    "plt.plot(np.arange(len(x_test)), y_pred[0], \"r:\")\n",
    "plt.plot(np.arange(len(x_test)), y_pred[1], \"g--\")\n",
    "plt.plot(np.arange(len(x_test)), y_pred[2], \"b-\")\n",
    "plt.grid(axis=\"both\")"
   ]
  },
  {
   "cell_type": "code",
   "execution_count": null,
   "metadata": {
    "colab": {},
    "colab_type": "code",
    "id": "qQboElG8hKDi"
   },
   "outputs": [],
   "source": []
  },
  {
   "cell_type": "markdown",
   "metadata": {
    "colab_type": "text",
    "id": "lHG968XpiB22"
   },
   "source": [
    "### HamSpam Classification"
   ]
  },
  {
   "cell_type": "code",
   "execution_count": null,
   "metadata": {
    "colab": {},
    "colab_type": "code",
    "id": "8LcHMeHJlQwV"
   },
   "outputs": [],
   "source": [
    "from sklearn.feature_extraction.text import CountVectorizer"
   ]
  },
  {
   "cell_type": "code",
   "execution_count": null,
   "metadata": {
    "colab": {
     "base_uri": "https://localhost:8080/",
     "height": 54
    },
    "colab_type": "code",
    "id": "e--C9Q7JiFsf",
    "outputId": "ca86f2e4-936e-4d3c-a6e2-26b023dc1c79"
   },
   "outputs": [],
   "source": [
    "df = pd.read_csv(\"./hamspam.csv\",  names=[\"index\", \"Type\", \"News\"])\n",
    "df.iloc[1]['News']"
   ]
  },
  {
   "cell_type": "code",
   "execution_count": null,
   "metadata": {
    "colab": {
     "base_uri": "https://localhost:8080/",
     "height": 228
    },
    "colab_type": "code",
    "id": "RVRSrgW8ieC_",
    "outputId": "c3b15aae-cd0d-44cc-e625-2623451cc405"
   },
   "outputs": [],
   "source": [
    "y = df['Type']\n",
    "y\n"
   ]
  },
  {
   "cell_type": "code",
   "execution_count": null,
   "metadata": {
    "colab": {
     "base_uri": "https://localhost:8080/",
     "height": 142
    },
    "colab_type": "code",
    "id": "tggfRO8ckelC",
    "outputId": "483028fb-c22f-4452-f97e-031f8073710d"
   },
   "outputs": [],
   "source": [
    "x = np.array(df['News'])\n",
    "x"
   ]
  },
  {
   "cell_type": "code",
   "execution_count": null,
   "metadata": {
    "colab": {},
    "colab_type": "code",
    "id": "sB8XG9rPkjtI"
   },
   "outputs": [],
   "source": [
    "# Converting the X strings to x_vector of CountVectorizer format...\n",
    "vectorizer = CountVectorizer()\n",
    "X_vector = vectorizer.fit_transform(x)"
   ]
  },
  {
   "cell_type": "code",
   "execution_count": null,
   "metadata": {
    "colab": {
     "base_uri": "https://localhost:8080/",
     "height": 34
    },
    "colab_type": "code",
    "id": "F9RVKJ1RzMqZ",
    "outputId": "d5329378-9862-41c4-c6fe-f105b85cb695"
   },
   "outputs": [],
   "source": [
    "X_vector.toarray().shape, y.shape"
   ]
  },
  {
   "cell_type": "code",
   "execution_count": null,
   "metadata": {
    "colab": {},
    "colab_type": "code",
    "id": "CTLEVJjvsKSX"
   },
   "outputs": [],
   "source": [
    "# So we have x in vector form and we have y now lets try fitting the data into Gausian Bayes Model\n",
    "gausian_bayes = GaussianNB()\n",
    "gausian_bayes.fit(X_vector.toarray(), y)\n",
    "gb_s = gausian_bayes.score(X_vector.toarray(), y)"
   ]
  },
  {
   "cell_type": "code",
   "execution_count": null,
   "metadata": {
    "colab": {},
    "colab_type": "code",
    "id": "OfU_3T90wSeF"
   },
   "outputs": [],
   "source": [
    "X_test = [\"Hello user, we are proud to inform you that you are a lucky draw winner of this month\"]\n",
    "X_test_vector = vectorizer.transform(X_test)"
   ]
  },
  {
   "cell_type": "code",
   "execution_count": null,
   "metadata": {
    "colab": {
     "base_uri": "https://localhost:8080/",
     "height": 34
    },
    "colab_type": "code",
    "id": "WQpYvf9e7d6B",
    "outputId": "4624c828-eb7f-4d61-c666-406befa1b4f5"
   },
   "outputs": [],
   "source": [
    "gausian_bayes.predict(X_test_vector.toarray())"
   ]
  },
  {
   "cell_type": "code",
   "execution_count": null,
   "metadata": {
    "colab": {},
    "colab_type": "code",
    "id": "vwHj7LDG_wrv"
   },
   "outputs": [],
   "source": [
    "multinomial_bayes = MultinomialNB()\n",
    "multinomial_bayes.fit(X_vector.toarray(), y)\n",
    "mb_s = multinomial_bayes.score(X_vector.toarray(), y)"
   ]
  },
  {
   "cell_type": "code",
   "execution_count": null,
   "metadata": {
    "colab": {},
    "colab_type": "code",
    "id": "bBn2wZtfBmWY"
   },
   "outputs": [],
   "source": [
    "bernoulli_bayes = BernoulliNB()\n",
    "bernoulli_bayes.fit(X_vector.toarray(), y)\n",
    "bb_s = bernoulli_bayes.score(X_vector.toarray(), y)"
   ]
  },
  {
   "cell_type": "code",
   "execution_count": null,
   "metadata": {
    "colab": {
     "base_uri": "https://localhost:8080/",
     "height": 472
    },
    "colab_type": "code",
    "id": "EnmuJBXHB__G",
    "outputId": "0c614b9d-cf7b-4b03-b852-3ce4453661d1"
   },
   "outputs": [],
   "source": [
    "\n",
    "\n",
    "plt.rcdefaults()\n",
    "fig, ax = plt.subplots()\n",
    "\n",
    "\n",
    "model = (\"Gaussian\", \"Bernoulli\", \"Multinomial\")\n",
    "y_pos = np.arange(len(model))\n",
    "performance = np.array([gb_s, bb_s, mb_s])\n",
    "\n",
    "ax.barh(y_pos, performance, align='center')\n",
    "ax.set_yticks(y_pos)\n",
    "ax.set_yticklabels(model)\n",
    "ax.invert_yaxis()  # labels read top-to-bottom\n",
    "ax.set_xlabel('Performance')\n",
    "ax.set_title('Accuracy scores of different Bayes Models')\n",
    "\n",
    "plt.grid(axis=\"x\", alpha=0.3)\n",
    "plt.show()"
   ]
  }
 ],
 "metadata": {
  "colab": {
   "name": "Day 32.ipynb",
   "provenance": [],
   "toc_visible": true
  },
  "kernelspec": {
   "display_name": "Python 3",
   "language": "python",
   "name": "python3"
  },
  "language_info": {
   "codemirror_mode": {
    "name": "ipython",
    "version": 3
   },
   "file_extension": ".py",
   "mimetype": "text/x-python",
   "name": "python",
   "nbconvert_exporter": "python",
   "pygments_lexer": "ipython3",
   "version": "3.7.3"
  }
 },
 "nbformat": 4,
 "nbformat_minor": 1
}
