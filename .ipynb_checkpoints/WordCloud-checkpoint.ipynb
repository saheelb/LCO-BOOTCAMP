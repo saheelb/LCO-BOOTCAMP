{
 "cells": [
  {
   "cell_type": "code",
   "execution_count": null,
   "metadata": {},
   "outputs": [],
   "source": [
    "from wordcloud import WordCloud, STOPWORDS\n",
    "import matplotlib.pyplot as plt\n",
    "stopwords = set(STOPWORDS)\n",
    "\n",
    "def grey_color_func(word, font_size, position, orientation, random_state=None,\n",
    "                    **kwargs):\n",
    "    return \"hsl({}, {}%, {}%)\".format(str(random.randint(0, 150)),str(random.randint(80, 100)), str(random.randint(40, 50)))\n",
    "\n",
    "\n",
    "def show_wordcloud(data, title = None):\n",
    "    \n",
    "#     alice_mask = np.array(Image.open(\"C:\\\\Users\\\\sampr\\\\Desktop\\\\about.png\"))\n",
    "    \n",
    "    wordcloud = WordCloud(\n",
    "        font_path='C:\\\\Users\\\\Saheel Bobde\\\\OneDrive\\\\Desktop\\\\WindSong.ttf',\n",
    "        background_color='black',\n",
    "        stopwords=stopwords,\n",
    "        max_words=400,\n",
    "        max_font_size=20, \n",
    "        scale=4,\n",
    "        height=50,\n",
    "        width=100,\n",
    "        mask=None,\n",
    "        repeat=True,\n",
    "        random_state=1 # chosen at random by flipping a coin; it was heads\n",
    "    ).generate(str(data)).recolor(color_func=grey_color_func, random_state=3)\n",
    "\n",
    "    fig = plt.figure(1, figsize=(12, 12))\n",
    "    plt.axis('off')\n",
    "    if title: \n",
    "        fig.suptitle(title, fontsize=20)\n",
    "        fig.subplots_adjust(top=2.3)\n",
    "\n",
    "    plt.imshow(wordcloud,\n",
    "           interpolation=\"bilinear\")\n",
    "    plt.show()\n",
    "    plt.imsave(\"Hello.png\",wordcloud)\n",
    "    \n",
    "data = \"Saheel Anurag Abhijit LCO Bootcamp will miss you Had fun Here Learned lot of new things Always struggle until u succeed\"\n",
    "# show_wordcloud(data)"
   ]
  },
  {
   "cell_type": "code",
   "execution_count": null,
   "metadata": {},
   "outputs": [],
   "source": []
  }
 ],
 "metadata": {
  "kernelspec": {
   "display_name": "Python 3",
   "language": "python",
   "name": "python3"
  },
  "language_info": {
   "codemirror_mode": {
    "name": "ipython",
    "version": 3
   },
   "file_extension": ".py",
   "mimetype": "text/x-python",
   "name": "python",
   "nbconvert_exporter": "python",
   "pygments_lexer": "ipython3",
   "version": "3.7.3"
  }
 },
 "nbformat": 4,
 "nbformat_minor": 2
}
