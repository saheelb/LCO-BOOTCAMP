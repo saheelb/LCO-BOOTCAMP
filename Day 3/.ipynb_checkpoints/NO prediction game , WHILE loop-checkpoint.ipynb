{
 "cells": [
  {
   "cell_type": "code",
   "execution_count": 1,
   "metadata": {},
   "outputs": [
    {
     "name": "stdout",
     "output_type": "stream",
     "text": [
      "10 greater than 5 \n",
      "ALLL \n"
     ]
    }
   ],
   "source": [
    "if 10>5:\n",
    "    print(\"10 greater than 5 \")\n",
    "    \n",
    "print(\"ALLL \")    "
   ]
  },
  {
   "cell_type": "code",
   "execution_count": 4,
   "metadata": {},
   "outputs": [
    {
     "name": "stdout",
     "output_type": "stream",
     "text": [
      "enter the no. : 12\n",
      "number bigger than 5\n",
      "no. is between 4 and 5 \n"
     ]
    }
   ],
   "source": [
    "num = int(input(\"enter the no. : \"))\n",
    "\n",
    "if num>5:\n",
    "    print(\"number bigger than 5\")\n",
    "    if num <= 47:\n",
    "        print(\"no. is between 4 and 5 \")"
   ]
  },
  {
   "cell_type": "markdown",
   "metadata": {},
   "source": []
  },
  {
   "cell_type": "code",
   "execution_count": 6,
   "metadata": {},
   "outputs": [
    {
     "name": "stdout",
     "output_type": "stream",
     "text": [
      "3\n"
     ]
    }
   ],
   "source": [
    "num =7\n",
    "\n",
    "if num > 3:\n",
    "    print(\"3\")\n",
    "    if num < 5:\n",
    "        print(\"5\")\n",
    "        if num == 7 :\n",
    "            print(\"7\")\n",
    "                            \n",
    " "
   ]
  },
  {
   "cell_type": "code",
   "execution_count": null,
   "metadata": {},
   "outputs": [],
   "source": [
    "i = 1 \n",
    "while i<=5:\n",
    "    "
   ]
  }
 ],
 "metadata": {
  "kernelspec": {
   "display_name": "Python 3",
   "language": "python",
   "name": "python3"
  },
  "language_info": {
   "codemirror_mode": {
    "name": "ipython",
    "version": 3
   },
   "file_extension": ".py",
   "mimetype": "text/x-python",
   "name": "python",
   "nbconvert_exporter": "python",
   "pygments_lexer": "ipython3",
   "version": "3.7.3"
  }
 },
 "nbformat": 4,
 "nbformat_minor": 2
}
