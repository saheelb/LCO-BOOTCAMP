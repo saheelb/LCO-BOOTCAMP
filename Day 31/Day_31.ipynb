{
  "nbformat": 4,
  "nbformat_minor": 0,
  "metadata": {
    "colab": {
      "name": "Day 31.ipynb",
      "provenance": [],
      "toc_visible": true
    },
    "kernelspec": {
      "name": "python3",
      "display_name": "Python 3"
    }
  },
  "cells": [
    {
      "cell_type": "markdown",
      "metadata": {
        "id": "CuUBtkEdAi20",
        "colab_type": "text"
      },
      "source": [
        "# Day 31"
      ]
    },
    {
      "cell_type": "markdown",
      "metadata": {
        "id": "zB566YzjApcQ",
        "colab_type": "text"
      },
      "source": [
        "## Support Vector Machine and Classifiers"
      ]
    },
    {
      "cell_type": "code",
      "metadata": {
        "id": "bdqAcp6RAknI",
        "colab_type": "code",
        "colab": {}
      },
      "source": [
        "import matplotlib.pyplot as plt\n",
        "from sklearn.datasets import load_iris\n",
        "from sklearn import svm\n",
        "import numpy as np\n",
        "import pandas as pd"
      ],
      "execution_count": 0,
      "outputs": []
    },
    {
      "cell_type": "code",
      "metadata": {
        "id": "0LjkWS2CA3dq",
        "colab_type": "code",
        "colab": {}
      },
      "source": [
        "def plot_boundaries(df, y, est=None, xlbl=\"\", ylbl=\"\", t=\"\"):\n",
        "    \n",
        "    x_min, x_max = df.values[:, 0].min() - 1, df.values[:, 0].max() + 1\n",
        "    y_min, y_max = df.values[:, 1].min() - 1, df.values[:, 1].max() + 1\n",
        "    h = (x_max / x_min)/100\n",
        "    xx, yy = np.meshgrid(np.arange(x_min, x_max, h), np.arange(y_min, y_max, h))\n",
        "    \n",
        "    Z = est.predict(np.c_[xx.ravel(), yy.ravel()])\n",
        "    \n",
        "    Z = Z.reshape(xx.shape)\n",
        "    \n",
        "    plt.subplot(1, 1, 1)\n",
        "    \n",
        "    plt.contourf(xx, yy, Z, cmap=plt.cm.Paired, alpha=0.8)\n",
        "\n",
        "    plt.scatter(df.values[:, 0], df.values[:, 1], c=y, cmap=plt.cm.Paired)\n",
        "    plt.xlabel(xlbl)\n",
        "    plt.ylabel(ylbl)\n",
        "    plt.xlim(xx.min(), xx.max())\n",
        "    plt.title(t)\n",
        "    plt.show()"
      ],
      "execution_count": 0,
      "outputs": []
    },
    {
      "cell_type": "code",
      "metadata": {
        "id": "E-3WXDyvBPch",
        "colab_type": "code",
        "colab": {}
      },
      "source": [
        "iris = load_iris()\n",
        "df_x = pd.DataFrame(load_iris()['data'][:, :2])\n",
        "y = iris['target']"
      ],
      "execution_count": 0,
      "outputs": []
    },
    {
      "cell_type": "code",
      "metadata": {
        "id": "bvIW1XEfBVbU",
        "colab_type": "code",
        "colab": {
          "base_uri": "https://localhost:8080/",
          "height": 87
        },
        "outputId": "58c0c8f2-e473-43ef-d96d-a2c914fd72f8"
      },
      "source": [
        "svc_model = svm.SVC()\n",
        "svc_model.fit(df_x, y)"
      ],
      "execution_count": 32,
      "outputs": [
        {
          "output_type": "execute_result",
          "data": {
            "text/plain": [
              "SVC(C=1.0, break_ties=False, cache_size=200, class_weight=None, coef0=0.0,\n",
              "    decision_function_shape='ovr', degree=3, gamma='scale', kernel='rbf',\n",
              "    max_iter=-1, probability=False, random_state=None, shrinking=True,\n",
              "    tol=0.001, verbose=False)"
            ]
          },
          "metadata": {
            "tags": []
          },
          "execution_count": 32
        }
      ]
    },
    {
      "cell_type": "code",
      "metadata": {
        "id": "QrmaDJBECiEK",
        "colab_type": "code",
        "colab": {}
      },
      "source": [
        "# x_test = np.array([load_iris()['data'][0]])\n",
        "# svc_model.predict(x_test)"
      ],
      "execution_count": 0,
      "outputs": []
    },
    {
      "cell_type": "code",
      "metadata": {
        "id": "AbATeoLhCw0Y",
        "colab_type": "code",
        "colab": {
          "base_uri": "https://localhost:8080/",
          "height": 265
        },
        "outputId": "d80821a7-14bf-42e3-f2a5-a688583dcded"
      },
      "source": [
        "plot_boundaries(df_x, y, svc_model)"
      ],
      "execution_count": 35,
      "outputs": [
        {
          "output_type": "display_data",
          "data": {
            "image/png": "[encoded data removed]",
            "text/plain": [
              "<Figure size 432x288 with 1 Axes>"
            ]
          },
          "metadata": {
            "tags": []
          }
        }
      ]
    },
    {
      "cell_type": "code",
      "metadata": {
        "id": "OBxO6HKeFHJX",
        "colab_type": "code",
        "colab": {}
      },
      "source": [
        ""
      ],
      "execution_count": 0,
      "outputs": []
    },
    {
      "cell_type": "markdown",
      "metadata": {
        "id": "fLvzPBEWJxjf",
        "colab_type": "text"
      },
      "source": [
        "## Digit Clasification"
      ]
    },
    {
      "cell_type": "code",
      "metadata": {
        "id": "S25b8MxZKH_8",
        "colab_type": "code",
        "colab": {}
      },
      "source": [
        "from sklearn.datasets import load_digits\n",
        "from sklearn import svm, metrics\n",
        "from sklearn.model_selection import train_test_split"
      ],
      "execution_count": 0,
      "outputs": []
    },
    {
      "cell_type": "code",
      "metadata": {
        "id": "GGVd1IurKXjH",
        "colab_type": "code",
        "colab": {
          "base_uri": "https://localhost:8080/",
          "height": 300
        },
        "outputId": "70531190-c58d-4f72-fa24-598b3024bf65"
      },
      "source": [
        "# Loading the data and previewing one image...\n",
        "digits = load_digits()\n",
        "i = digits['images'][0]\n",
        "\n",
        "print(\"Sample image from data-set\")\n",
        "plt.imshow(i, cmap='gray')"
      ],
      "execution_count": 17,
      "outputs": [
        {
          "output_type": "stream",
          "text": [
            "Sample image from data-set\n"
          ],
          "name": "stdout"
        },
        {
          "output_type": "execute_result",
          "data": {
            "text/plain": [
              "<matplotlib.image.AxesImage at 0x7fd9c1334080>"
            ]
          },
          "metadata": {
            "tags": []
          },
          "execution_count": 17
        },
        {
          "output_type": "display_data",
          "data": {
            "image/png": "[encoded data removed]",
            "text/plain": [
              "<Figure size 432x288 with 1 Axes>"
            ]
          },
          "metadata": {
            "tags": []
          }
        }
      ]
    },
    {
      "cell_type": "code",
      "metadata": {
        "id": "YVWElJmLjwD3",
        "colab_type": "code",
        "colab": {
          "base_uri": "https://localhost:8080/",
          "height": 122
        },
        "outputId": "b3acc1d0-5773-4427-b850-e80fafbace38"
      },
      "source": [
        "# Preporcessing the data first...\n",
        "# (Converting 2D data features to 1D Array)\n",
        "sample_count = len(digits.images)\n",
        "data = digits.images.reshape((sample_count, -1))\n",
        "print(\"Flattened Date sample :\\n\", data[0])\n",
        "print(data.shape)"
      ],
      "execution_count": 51,
      "outputs": [
        {
          "output_type": "stream",
          "text": [
            "Flattened Date sample :\n",
            " [ 0.  0.  5. 13.  9.  1.  0.  0.  0.  0. 13. 15. 10. 15.  5.  0.  0.  3.\n",
            " 15.  2.  0. 11.  8.  0.  0.  4. 12.  0.  0.  8.  8.  0.  0.  5.  8.  0.\n",
            "  0.  9.  8.  0.  0.  4. 11.  0.  1. 12.  7.  0.  0.  2. 14.  5. 10. 12.\n",
            "  0.  0.  0.  0.  6. 13. 10.  0.  0.  0.]\n",
            "(1797, 64)\n"
          ],
          "name": "stdout"
        }
      ]
    },
    {
      "cell_type": "code",
      "metadata": {
        "id": "pihBpSOXa5Ak",
        "colab_type": "code",
        "colab": {
          "base_uri": "https://localhost:8080/",
          "height": 105
        },
        "outputId": "4ae96ed3-386a-4302-e18e-cb55f667c95d"
      },
      "source": [
        "# saperating the test and train data sets...\n",
        "x_train, x_test, y_train, y_test = train_test_split(data, digits.target, test_size=0.3, shuffle=False)\n",
        "\n",
        "print(\"x_train Size:\", x_train.shape)\n",
        "print(\"y_train Size:\", y_train.shape)\n",
        "\n",
        "print(\"\\nx_test Size:\", x_test.shape)\n",
        "print(\"x_test Size:\", y_test.shape)"
      ],
      "execution_count": 45,
      "outputs": [
        {
          "output_type": "stream",
          "text": [
            "x_train Size: (1257, 64)\n",
            "y_train Size: (1257,)\n",
            "\n",
            "x_test Size: (540, 64)\n",
            "x_test Size: (540,)\n"
          ],
          "name": "stdout"
        }
      ]
    },
    {
      "cell_type": "code",
      "metadata": {
        "id": "2sVjPhSdlrFt",
        "colab_type": "code",
        "colab": {
          "base_uri": "https://localhost:8080/",
          "height": 34
        },
        "outputId": "17fb57d0-accb-4f40-800f-441589b45697"
      },
      "source": [
        "# Creating and fitting the Classifier model\n",
        "classifier = svm.SVC(gamma=0.01)\n",
        "classifier.fit(x_train, y_train)\n",
        "\n",
        "# Getting model's score\n",
        "classifier.score(x_test, y_test)"
      ],
      "execution_count": 46,
      "outputs": [
        {
          "output_type": "execute_result",
          "data": {
            "text/plain": [
              "0.6962962962962963"
            ]
          },
          "metadata": {
            "tags": []
          },
          "execution_count": 46
        }
      ]
    },
    {
      "cell_type": "code",
      "metadata": {
        "id": "i_rN1RTanDnO",
        "colab_type": "code",
        "colab": {
          "base_uri": "https://localhost:8080/",
          "height": 282
        },
        "outputId": "ae0a301e-42ec-49b6-e6b5-ade900737bf9"
      },
      "source": [
        "# Choosing some random digit from our dataset...\n",
        "random_test = digits.images[152]\n",
        "plt.imshow(random_test, cmap='gray')\n",
        "\n",
        "# Passing same number to our model...\n",
        "prediction = classifier.predict(random_test.reshape((1, -1)))\n",
        "print(\"Predicted number : \", prediction)"
      ],
      "execution_count": 61,
      "outputs": [
        {
          "output_type": "stream",
          "text": [
            "Predicted number :  [2]\n"
          ],
          "name": "stdout"
        },
        {
          "output_type": "display_data",
          "data": {
            "image/png": "[encoded data removed]",
            "text/plain": [
              "<Figure size 432x288 with 1 Axes>"
            ]
          },
          "metadata": {
            "tags": []
          }
        }
      ]
    },
    {
      "cell_type": "code",
      "metadata": {
        "id": "0MoPnwbooAnG",
        "colab_type": "code",
        "colab": {
          "base_uri": "https://localhost:8080/",
          "height": 326
        },
        "outputId": "b1b1a278-6741-4f8c-a2ea-bf7ac5861388"
      },
      "source": [
        "# Statistics of our model...\n",
        "confusion = metrics.plot_confusion_matrix(classifier, x_test, y_test)\n",
        "confusion.figure_.suptitle(\"Confusion Matrix\")"
      ],
      "execution_count": 60,
      "outputs": [
        {
          "output_type": "execute_result",
          "data": {
            "text/plain": [
              "Text(0.5, 0.98, 'Confusion Matrix')"
            ]
          },
          "metadata": {
            "tags": []
          },
          "execution_count": 60
        },
        {
          "output_type": "display_data",
          "data": {
            "image/png": "[encoded data removed]",
            "text/plain": [
              "<Figure size 432x288 with 2 Axes>"
            ]
          },
          "metadata": {
            "tags": []
          }
        }
      ]
    }
  ]
}