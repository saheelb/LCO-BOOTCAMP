{
 "cells": [
  {
   "cell_type": "markdown",
   "metadata": {},
   "source": [
    "# Assignment Day 7"
   ]
  },
  {
   "cell_type": "markdown",
   "metadata": {},
   "source": [
    "#### Prob - 1 :\n",
    "```Please write a program to print the list after removing delete even numbers in [5,6,77,45,22,12,24].\n",
    "Hints:\n",
    "Use list comprehension to delete a bunch of element from a list.\n",
    "```"
   ]
  },
  {
   "cell_type": "code",
   "execution_count": 1,
   "metadata": {},
   "outputs": [
    {
     "data": {
      "text/plain": [
       "[5, 77, 45]"
      ]
     },
     "execution_count": 1,
     "metadata": {},
     "output_type": "execute_result"
    }
   ],
   "source": [
    "number_list = [5, 6, 77, 45, 22, 12, 24]\n",
    "number_list = [i for i in number_list if i%2!=0 ]  # <-- logic to remove even numbers\n",
    "number_list"
   ]
  },
  {
   "cell_type": "markdown",
   "metadata": {},
   "source": [
    "#### Prob - 2 :\n",
    "```Create a decorator that takes a list and gives only the unique elements of that list.```\n"
   ]
  },
  {
   "cell_type": "code",
   "execution_count": 2,
   "metadata": {},
   "outputs": [],
   "source": [
    "def get_unique(func):\n",
    "    def wraper(data):\n",
    "        new_set = set(data)\n",
    "        return new_set\n",
    "    return wraper\n",
    "\n",
    "@get_unique\n",
    "def return_list(input_list):\n",
    "    return imput_list"
   ]
  },
  {
   "cell_type": "code",
   "execution_count": 3,
   "metadata": {},
   "outputs": [
    {
     "data": {
      "text/plain": [
       "{1, 2, 9.8, 'A', 'Z'}"
      ]
     },
     "execution_count": 3,
     "metadata": {},
     "output_type": "execute_result"
    }
   ],
   "source": [
    "sample_list = [1, 2, 2, \"A\", \"A\", \"Z\", 9.8, 9.8]\n",
    "return_list(sample_list)"
   ]
  },
  {
   "cell_type": "markdown",
   "metadata": {},
   "source": [
    "#### Prob - 3 :\n",
    "```Define a class named Shape and its subclass Square. The Square class has an init function which takes a length as argument. Both classes have a area function which can print the area of the shape where Shape's area is 0 by default.```"
   ]
  },
  {
   "cell_type": "code",
   "execution_count": 4,
   "metadata": {},
   "outputs": [],
   "source": [
    "class Shape:\n",
    "    def __init__(self, side_length):\n",
    "        self.side = side_length\n",
    "        self.area = 0\n",
    "    \n",
    "    def get_area(self):\n",
    "        return self.area\n",
    "    \n",
    "class Square(Shape):\n",
    "    def __init__(self, side_length):\n",
    "        super().__init__(side_length)\n",
    "        \n",
    "    def get_area(self):\n",
    "        self.area = self.side ** 2\n",
    "        return self.area"
   ]
  },
  {
   "cell_type": "code",
   "execution_count": 5,
   "metadata": {},
   "outputs": [
    {
     "name": "stdout",
     "output_type": "stream",
     "text": [
      "Area of square with side 10 is 100\n"
     ]
    }
   ],
   "source": [
    "side = 10\n",
    "sq = Square(side)\n",
    "\n",
    "print(\"Area of square with side {} is {}\".format(side, sq.get_area()))"
   ]
  },
  {
   "cell_type": "markdown",
   "metadata": {},
   "source": [
    "#### Prob - 4:\n",
    "```Define a class Fibonacci which can be instantiated with a integer. There will be methods to print the elements, print the sum of all elements, print the sum of nth elements, print last two digits of the series.```"
   ]
  },
  {
   "cell_type": "code",
   "execution_count": 6,
   "metadata": {},
   "outputs": [],
   "source": [
    "class Fibonacci:\n",
    "    def __init__(self, length):\n",
    "        self.fibonacci_list = [0, 1]\n",
    "        self.initiate_series(length)\n",
    "        pass\n",
    "    \n",
    "    def initiate_series(self, length):\n",
    "        x, y, z = 0, 1, 0\n",
    "        for _ in range(length-2):\n",
    "            z = x + y\n",
    "            self.fibonacci_list.append(z)\n",
    "            x = y\n",
    "            y = z\n",
    "            \n",
    "    def return_list(self):\n",
    "        return self.fibonacci_list\n",
    "    \n",
    "    def return_last_two(self):\n",
    "        return self.fibonacci_list[-2:]\n",
    "    \n",
    "    def sum_of_elements(self, n=None):\n",
    "        if n==None:\n",
    "            return sum(self.fibonacci_list)\n",
    "        else:\n",
    "            return sum(self.fibonacci_list[:n])"
   ]
  },
  {
   "cell_type": "code",
   "execution_count": 7,
   "metadata": {},
   "outputs": [
    {
     "name": "stdout",
     "output_type": "stream",
     "text": [
      "Fibonacci Series of 10 is : [0, 1, 1, 2, 3, 5, 8, 13, 21, 34]\n",
      "Last 2 Elements : [21, 34]\n",
      "Sum of all Elements : 88\n",
      "Sum of First 5 Elements : 7\n"
     ]
    }
   ],
   "source": [
    "length = 10\n",
    "F_series = Fibonacci(length)\n",
    "print(\"Fibonacci Series of {} is : {}\".format(length, F_series.return_list()))\n",
    "print(\"Last 2 Elements :\", F_series.return_last_two())\n",
    "print(\"Sum of all Elements :\", F_series.sum_of_elements())\n",
    "print(\"Sum of First 5 Elements :\", F_series.sum_of_elements(5))"
   ]
  },
  {
   "cell_type": "markdown",
   "metadata": {},
   "source": [
    "#### Prob - 5 :\n",
    "```Define a custom exception class which takes a string message as attribute.```"
   ]
  },
  {
   "cell_type": "code",
   "execution_count": 8,
   "metadata": {},
   "outputs": [],
   "source": [
    "class Custom_exception(Exception):\n",
    "    def __init__(self, msg):\n",
    "        self._msg = msg\n",
    "        \n",
    "    def get_error_msg(self):\n",
    "        return self._msg"
   ]
  },
  {
   "cell_type": "code",
   "execution_count": 9,
   "metadata": {},
   "outputs": [],
   "source": [
    "class Square_root:\n",
    "    def __init__(self, number):\n",
    "        self.number = number\n",
    "        \n",
    "    def calculate_sq_root(self):\n",
    "        if self.number < 0:\n",
    "            raise Custom_exception(\"Can't Find Square root of Negetive number: \"+str(self.number))\n",
    "        else:\n",
    "            return round((self.number)**0.5, 2)"
   ]
  },
  {
   "cell_type": "code",
   "execution_count": 10,
   "metadata": {},
   "outputs": [
    {
     "name": "stdout",
     "output_type": "stream",
     "text": [
      "Square Root of 9 is : 3.0\n",
      "Can't Find Square root of Negetive number: -5\n"
     ]
    }
   ],
   "source": [
    "try:\n",
    "    number = 9\n",
    "    sqr = Square_root(number)\n",
    "    print(\"Square Root of\",number,\"is :\", sqr.calculate_sq_root())\n",
    "    \n",
    "    number = -5\n",
    "    sqr = Square_root(number)\n",
    "    print(\"Square Root of\",number,\"is :\", sqr.calculate_sq_root())\n",
    "except Exception as e:\n",
    "    print(e)\n"
   ]
  },
  {
   "cell_type": "markdown",
   "metadata": {},
   "source": [
    "#### Prob - 6 :\n",
    "Assuming that we have some email addresses in the \"username@companyname.com\" format, please write program to print the user name of a given email address. Both user names and company names are composed of letters only.\n",
    "\n",
    "Example:\n",
    "If the following email address is given as input to the program:\n",
    "\n",
    "john@google.com\n",
    "\n",
    "Then, the output of the program should be:\n",
    "\n",
    "john"
   ]
  },
  {
   "cell_type": "code",
   "execution_count": 11,
   "metadata": {},
   "outputs": [],
   "source": [
    "class Email_parser:\n",
    "    def __init__(self, email):\n",
    "        self.email = email\n",
    "        self._parse_email()\n",
    "    \n",
    "    def _parse_email(self):\n",
    "        parsed_list = self.email.split(\"@\")\n",
    "        self.username = parsed_list[0]\n",
    "        self.domain = parsed_list[1]\n",
    "        \n",
    "    def get_username(self):\n",
    "        return self.username\n",
    "    \n",
    "    def get_domainName(self):\n",
    "        return self.domain"
   ]
  },
  {
   "cell_type": "code",
   "execution_count": 12,
   "metadata": {},
   "outputs": [
    {
     "name": "stdout",
     "output_type": "stream",
     "text": [
      "User name : jonh\n"
     ]
    }
   ],
   "source": [
    "Ep = Email_parser(\"jonh@google.com\")\n",
    "print(\"User name :\", Ep.get_username())\n",
    "# print(\"Domain Name :\", Ep.get_domainName())"
   ]
  },
  {
   "cell_type": "markdown",
   "metadata": {},
   "source": [
    "#### Prob - 7 :\n",
    "Write a program to compute:\n",
    "\n",
    "$f_n = f_{n-1} + 100$ where $n > 0$ and $f(0) = 1$\n",
    "\n",
    "using Recursion."
   ]
  },
  {
   "cell_type": "code",
   "execution_count": 13,
   "metadata": {},
   "outputs": [],
   "source": [
    "def recursive_add(n):\n",
    "    if n < 0:\n",
    "        raise Custom_exception(\"Can't get recursion over Negetive Limits\")\n",
    "    elif n == 0:\n",
    "        return 1\n",
    "    else:\n",
    "        return recursive_add(n-1) + 100"
   ]
  },
  {
   "cell_type": "code",
   "execution_count": 14,
   "metadata": {},
   "outputs": [
    {
     "name": "stdout",
     "output_type": "stream",
     "text": [
      "Recursive Sum: 501\n"
     ]
    }
   ],
   "source": [
    "try:\n",
    "    print(\"Recursive Sum:\", recursive_add(5))\n",
    "except Exception as e:\n",
    "    print(e)"
   ]
  },
  {
   "cell_type": "markdown",
   "metadata": {},
   "source": [
    "#### Prob - 8:\n",
    "```Write a program to solve a classic ancient Chinese puzzle: \n",
    "We count 35 heads and 94 legs among the chickens and rabbits in a farm. How many rabbits and how many chickens do we have?```"
   ]
  },
  {
   "cell_type": "code",
   "execution_count": 2,
   "metadata": {},
   "outputs": [],
   "source": [
    "def count_those_animals(head_count, legs_count):\n",
    "    for i in range(head_count+1):\n",
    "        j = head_count - i\n",
    "        if (2*i)+(4*j) == legs_count:\n",
    "            return {'Chicken':i, 'Rabbit':j}\n",
    "        \n",
    "    return \"Invalid Parameters\""
   ]
  },
  {
   "cell_type": "code",
   "execution_count": 10,
   "metadata": {},
   "outputs": [
    {
     "name": "stdout",
     "output_type": "stream",
     "text": [
      "\n"
     ]
    }
   ],
   "source": [
    "count = count_those_animals(36, 99)\n",
    "\n",
    "if count != \"Invalid Parameters\":\n",
    "    print(\"Chickens' count:\", count['Chicken'])\n",
    "    print(\"Rabbits' count:\", count['Rabbit'])\n",
    "else:\n",
    "    print(\"\")"
   ]
  },
  {
   "cell_type": "code",
   "execution_count": null,
   "metadata": {},
   "outputs": [],
   "source": []
  }
 ],
 "metadata": {
  "kernelspec": {
   "display_name": "Python 3",
   "language": "python",
   "name": "python3"
  },
  "language_info": {
   "codemirror_mode": {
    "name": "ipython",
    "version": 3
   },
   "file_extension": ".py",
   "mimetype": "text/x-python",
   "name": "python",
   "nbconvert_exporter": "python",
   "pygments_lexer": "ipython3",
   "version": "3.7.4"
  }
 },
 "nbformat": 4,
 "nbformat_minor": 2
}
