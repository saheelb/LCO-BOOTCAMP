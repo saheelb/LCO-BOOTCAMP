{
 "cells": [
  {
   "cell_type": "code",
   "execution_count": 2,
   "metadata": {},
   "outputs": [
    {
     "name": "stdout",
     "output_type": "stream",
     "text": [
      "hello, world "
     ]
    }
   ],
   "source": [
    "print(\"hello, world \" , end = '')"
   ]
  },
  {
   "cell_type": "code",
   "execution_count": 1,
   "metadata": {},
   "outputs": [
    {
     "name": "stdout",
     "output_type": "stream",
     "text": [
      "Enter the fees : 700\n",
      "Fees is : 700\n",
      "Revenue is 126\n",
      "574\n"
     ]
    }
   ],
   "source": [
    "fees = int(input(\"Enter the fees : \"))\n",
    "revenue = round(fees*0.18)\n",
    "print(\"Fees is : {}\".format(fees))\n",
    "print(\"Revenue is {}\". format(revenue))\n",
    "\n",
    "\n",
    "total_rev = fees - revenue\n",
    "print(total_rev)"
   ]
  },
  {
   "cell_type": "code",
   "execution_count": null,
   "metadata": {},
   "outputs": [],
   "source": []
  }
 ],
 "metadata": {
  "kernelspec": {
   "display_name": "Python 3",
   "language": "python",
   "name": "python3"
  },
  "language_info": {
   "codemirror_mode": {
    "name": "ipython",
    "version": 3
   },
   "file_extension": ".py",
   "mimetype": "text/x-python",
   "name": "python",
   "nbconvert_exporter": "python",
   "pygments_lexer": "ipython3",
   "version": "3.7.3"
  }
 },
 "nbformat": 4,
 "nbformat_minor": 2
}
