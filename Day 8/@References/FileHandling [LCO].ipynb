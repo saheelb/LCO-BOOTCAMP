{
 "cells": [
  {
   "cell_type": "code",
   "execution_count": 7,
   "metadata": {},
   "outputs": [],
   "source": [
    "f = open('myFile.txt', 'w+')"
   ]
  },
  {
   "cell_type": "code",
   "execution_count": 8,
   "metadata": {},
   "outputs": [
    {
     "data": {
      "text/plain": [
       "3"
      ]
     },
     "execution_count": 8,
     "metadata": {},
     "output_type": "execute_result"
    }
   ],
   "source": [
    "f.write(\"LCO\")"
   ]
  },
  {
   "cell_type": "code",
   "execution_count": 9,
   "metadata": {},
   "outputs": [],
   "source": [
    "f.close()"
   ]
  },
  {
   "cell_type": "code",
   "execution_count": 10,
   "metadata": {},
   "outputs": [],
   "source": [
    "f = open('myFile.txt')"
   ]
  },
  {
   "cell_type": "code",
   "execution_count": 11,
   "metadata": {},
   "outputs": [
    {
     "data": {
      "text/plain": [
       "'LCO'"
      ]
     },
     "execution_count": 11,
     "metadata": {},
     "output_type": "execute_result"
    }
   ],
   "source": [
    "f.read()"
   ]
  },
  {
   "cell_type": "code",
   "execution_count": 12,
   "metadata": {},
   "outputs": [
    {
     "data": {
      "text/plain": [
       "''"
      ]
     },
     "execution_count": 12,
     "metadata": {},
     "output_type": "execute_result"
    }
   ],
   "source": [
    "f.read()"
   ]
  },
  {
   "cell_type": "code",
   "execution_count": 13,
   "metadata": {},
   "outputs": [
    {
     "data": {
      "text/plain": [
       "0"
      ]
     },
     "execution_count": 13,
     "metadata": {},
     "output_type": "execute_result"
    }
   ],
   "source": [
    "f.seek(0)"
   ]
  },
  {
   "cell_type": "code",
   "execution_count": 14,
   "metadata": {},
   "outputs": [
    {
     "data": {
      "text/plain": [
       "'LCO'"
      ]
     },
     "execution_count": 14,
     "metadata": {},
     "output_type": "execute_result"
    }
   ],
   "source": [
    "f.read()"
   ]
  },
  {
   "cell_type": "code",
   "execution_count": 15,
   "metadata": {},
   "outputs": [
    {
     "data": {
      "text/plain": [
       "1"
      ]
     },
     "execution_count": 15,
     "metadata": {},
     "output_type": "execute_result"
    }
   ],
   "source": [
    "f.seek(1)"
   ]
  },
  {
   "cell_type": "code",
   "execution_count": 17,
   "metadata": {},
   "outputs": [],
   "source": [
    "f.read()\n",
    "f.close()"
   ]
  },
  {
   "cell_type": "code",
   "execution_count": 19,
   "metadata": {},
   "outputs": [
    {
     "name": "stdout",
     "output_type": "stream",
     "text": [
      "LCO\n"
     ]
    }
   ],
   "source": [
    "with open('myFile.txt') as f:\n",
    "    print(f.read())"
   ]
  },
  {
   "cell_type": "code",
   "execution_count": 20,
   "metadata": {},
   "outputs": [],
   "source": [
    "import os"
   ]
  },
  {
   "cell_type": "code",
   "execution_count": 49,
   "metadata": {},
   "outputs": [],
   "source": [
    "class FileManagement():\n",
    "    \n",
    "    def __init__(self):\n",
    "        \n",
    "        self._name = \"records.txt\"\n",
    "        \n",
    "        self._data = \"\"\n",
    "        \n",
    "        self._file = open(self._name, 'a+')\n",
    "            \n",
    "        \n",
    "    def _isExist(self, filepath):\n",
    "        return os.path.exists(filepath)\n",
    "    \n",
    "    def insert_data(self, data):\n",
    "        \n",
    "        self._file = open(self._name, 'a+')\n",
    "        \n",
    "        self._data = \"\\n\".join(data)\n",
    "        \n",
    "        self._data += \"\\n\\n\"\n",
    "        \n",
    "        try:\n",
    "            self._file.write(self._data)\n",
    "            self._file.close()\n",
    "            return True\n",
    "        except Exception as e:\n",
    "            return False\n",
    "        return False\n",
    "    \n",
    "    def read_data(self):\n",
    "        final_data = []\n",
    "        try:\n",
    "            total_chunk = open(self._name, 'r').read()\n",
    "            \n",
    "            total_data = total_chunk.split(\"\\n\\n\")\n",
    "            \n",
    "            if len(total_data) == 0:\n",
    "                return 5\n",
    "            \n",
    "            for item in total_data[:-1]:\n",
    "                \n",
    "                chunk = item.split(\"\\n\")\n",
    "                \n",
    "                final_data.append((chunk[0],chunk[1],chunk[2]))\n",
    "                \n",
    "            return final_data\n",
    "        \n",
    "        except:\n",
    "            return False"
   ]
  },
  {
   "cell_type": "code",
   "execution_count": 47,
   "metadata": {},
   "outputs": [],
   "source": [
    "fm = FileManagement()"
   ]
  },
  {
   "cell_type": "code",
   "execution_count": 39,
   "metadata": {},
   "outputs": [
    {
     "data": {
      "text/plain": [
       "True"
      ]
     },
     "execution_count": 39,
     "metadata": {},
     "output_type": "execute_result"
    }
   ],
   "source": [
    "fm.insert_data([\"LCO2\", \"lco@gmail.com\", \"123\"])"
   ]
  },
  {
   "cell_type": "code",
   "execution_count": 48,
   "metadata": {},
   "outputs": [
    {
     "data": {
      "text/plain": [
       "[('LCO', 'lco@gmail.com', '123'),\n",
       " ('LCO2', 'lco@gmail.com', '123'),\n",
       " ('LCO2', 'lco@gmail.com', '123')]"
      ]
     },
     "execution_count": 48,
     "metadata": {},
     "output_type": "execute_result"
    }
   ],
   "source": [
    "fm.read_data()"
   ]
  },
  {
   "cell_type": "code",
   "execution_count": 50,
   "metadata": {},
   "outputs": [],
   "source": [
    "def main():\n",
    "    \n",
    "    fm = FileManagement()\n",
    "    \n",
    "    print(\"\\n1. Insert a record\")\n",
    "    print(\"2. View all record\")\n",
    "    \n",
    "    choice = input(\"\\nEnter your choice : \")\n",
    "    \n",
    "    if choice == \"1\":\n",
    "        name = input(\"\\nEnter a name : \")\n",
    "        email = input(\"\\nEnter a email : \")\n",
    "        password = input(\"\\nEnter password : \")\n",
    "        \n",
    "        if fm.insert_data([name, email, password]):\n",
    "            print(\"\\nData Inserted Successfully!\")\n",
    "        else:\n",
    "            print(\"Oops! Something went wrong!\")\n",
    "            \n",
    "    elif choice == \"2\":\n",
    "        \n",
    "        data = fm.read_data()\n",
    "        \n",
    "        if data == 5:\n",
    "            print(\"\\nNo records found!\")\n",
    "        elif not data:\n",
    "            print(\"\\nOops! Something went wrong!\")\n",
    "        else:\n",
    "            \n",
    "            print(\"\\n:: All Records ::\\n\")\n",
    "            \n",
    "            for index, elem in enumerate(data):\n",
    "                \n",
    "                print(\"\\nSl No :\" + str(index+1))\n",
    "                print(\"Name : \" + elem[0])\n",
    "                print(\"Email : \" + elem[1])\n",
    "                print(\"Password : \" + elem[2])\n",
    "                print()\n",
    "        "
   ]
  },
  {
   "cell_type": "code",
   "execution_count": 53,
   "metadata": {},
   "outputs": [
    {
     "name": "stdout",
     "output_type": "stream",
     "text": [
      "\n",
      "1. Insert a record\n",
      "2. View all record\n",
      "\n",
      "Enter your choice : 2\n",
      "\n",
      ":: All Records ::\n",
      "\n",
      "\n",
      "Sl No :1\n",
      "Name : LCO\n",
      "Email : lco@gmail.com\n",
      "Password : 123\n",
      "\n",
      "\n",
      "Sl No :2\n",
      "Name : LCO2\n",
      "Email : lco@gmail.com\n",
      "Password : 123\n",
      "\n",
      "\n",
      "Sl No :3\n",
      "Name : LCO2\n",
      "Email : lco@gmail.com\n",
      "Password : 123\n",
      "\n",
      "\n",
      "Sl No :4\n",
      "Name : Samprit\n",
      "Email : sam@samprit.in\n",
      "Password : 258\n",
      "\n"
     ]
    }
   ],
   "source": [
    "main()"
   ]
  },
  {
   "cell_type": "code",
   "execution_count": null,
   "metadata": {},
   "outputs": [],
   "source": []
  }
 ],
 "metadata": {
  "kernelspec": {
   "display_name": "Python 3",
   "language": "python",
   "name": "python3"
  },
  "language_info": {
   "codemirror_mode": {
    "name": "ipython",
    "version": 3
   },
   "file_extension": ".py",
   "mimetype": "text/x-python",
   "name": "python",
   "nbconvert_exporter": "python",
   "pygments_lexer": "ipython3",
   "version": "3.7.4"
  }
 },
 "nbformat": 4,
 "nbformat_minor": 2
}
