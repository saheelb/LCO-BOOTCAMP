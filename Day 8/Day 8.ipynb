{
 "cells": [
  {
   "cell_type": "markdown",
   "metadata": {},
   "source": [
    "# Day 8"
   ]
  },
  {
   "cell_type": "markdown",
   "metadata": {},
   "source": [
    "### File Handling"
   ]
  },
  {
   "cell_type": "markdown",
   "metadata": {},
   "source": [
    "```Opening a File and writin to it```"
   ]
  },
  {
   "cell_type": "code",
   "execution_count": 1,
   "metadata": {},
   "outputs": [],
   "source": [
    "f = open(\"sample.txt\", \"w+\")"
   ]
  },
  {
   "cell_type": "code",
   "execution_count": 2,
   "metadata": {},
   "outputs": [
    {
     "data": {
      "text/plain": [
       "32"
      ]
     },
     "execution_count": 2,
     "metadata": {},
     "output_type": "execute_result"
    }
   ],
   "source": [
    "f.write(\"Hello World, this a smaple file!\") # <- Returns number of bytes written to file"
   ]
  },
  {
   "cell_type": "code",
   "execution_count": 3,
   "metadata": {},
   "outputs": [],
   "source": [
    "f.close()"
   ]
  },
  {
   "cell_type": "markdown",
   "metadata": {},
   "source": [
    "```Reading From File```"
   ]
  },
  {
   "cell_type": "code",
   "execution_count": 11,
   "metadata": {},
   "outputs": [],
   "source": [
    "f = open(\"sample.txt\")  # <- Default parameter is read"
   ]
  },
  {
   "cell_type": "code",
   "execution_count": 12,
   "metadata": {},
   "outputs": [
    {
     "data": {
      "text/plain": [
       "'Hello World, this a smaple file!'"
      ]
     },
     "execution_count": 12,
     "metadata": {},
     "output_type": "execute_result"
    }
   ],
   "source": [
    "f.read()"
   ]
  },
  {
   "cell_type": "code",
   "execution_count": 15,
   "metadata": {},
   "outputs": [
    {
     "data": {
      "text/plain": [
       "''"
      ]
     },
     "execution_count": 15,
     "metadata": {},
     "output_type": "execute_result"
    }
   ],
   "source": [
    "f.read() # Gives an Empty string cause read pointer is already at EOF"
   ]
  },
  {
   "cell_type": "code",
   "execution_count": 17,
   "metadata": {},
   "outputs": [],
   "source": [
    "#To reset the read pointer use seek()\n",
    "f.seek(0)  # 0 for starting byte\n",
    "f.read()\n",
    "f.close()"
   ]
  },
  {
   "cell_type": "markdown",
   "metadata": {},
   "source": [
    "```Other Syntax to read files```"
   ]
  },
  {
   "cell_type": "code",
   "execution_count": 18,
   "metadata": {},
   "outputs": [
    {
     "name": "stdout",
     "output_type": "stream",
     "text": [
      "Hello World, this a smaple file!\n"
     ]
    }
   ],
   "source": [
    "with open('sample.txt') as f:\n",
    "    print(f.read())"
   ]
  },
  {
   "cell_type": "markdown",
   "metadata": {},
   "source": [
    "#### Modes in File Handling"
   ]
  },
  {
   "cell_type": "markdown",
   "metadata": {},
   "source": [
    "- r    <- Read Only\n",
    "- rb   <- Read Only in Binary\n",
    "- r+   <- Read and Write\n",
    "- rb+  <- Read and Write in Binary\n",
    "-------------------------------------------------------------\n",
    "- W    <- Write Only; Overwrites the existing file\n",
    "- Wb   <- Write Only in Binary; Overwrites the existing file\n",
    "- w+   <- Read and Write both;\n",
    "- wb+  <- Read and Write both in Binary;\n",
    "-------------------------------------------------------------\n",
    "- a    <- Append Mode; Creates new file if not exists\n",
    "- ab   <- Append in Binary\n",
    "- a+   <- Append with both Read and Write modes\n",
    "- ab+   <- Append with both Read and Write modes in Binary"
   ]
  },
  {
   "cell_type": "code",
   "execution_count": 1,
   "metadata": {},
   "outputs": [],
   "source": [
    "# CW : File system APIs to record name, email and password\n",
    "import re\n",
    "import os\n",
    "\n",
    "class Record_manger:\n",
    "    def __init__(self, file_name):\n",
    "        self.file_name = file_name\n",
    "    \n",
    "    def __check_email(self, email):\n",
    "        regex = '^\\w+([\\.-]?\\w+)*@\\w+([\\.-]?\\w+)*(\\.\\w{2,3})+$'\n",
    "        return re.search(regex, email)\n",
    "    \n",
    "    def __check_password(self, password):\n",
    "        if len(password) < 8:\n",
    "            return False\n",
    "        else:\n",
    "            return True\n",
    "        \n",
    "    def insert_record(self, data_list):\n",
    "        if not self.__check_email(data_list[1]):\n",
    "            print(\"[ERROR] : Entered Email is INVALID!\")\n",
    "            return False\n",
    "        elif not self.__check_email(data_list[2]):\n",
    "            print(data_list)\n",
    "            print(\"[ERROR] : Password combination is invalid!\")\n",
    "            return False\n",
    "        else:\n",
    "            data_string = \"\\n\".join(data_list) + \"\\n\\n\"\n",
    "        try:\n",
    "            with open(self.file_name, 'a+') as file_writer:\n",
    "                file_writer.write(data_string)\n",
    "            return True\n",
    "\n",
    "        except Exception as e:\n",
    "            print(e)\n",
    "            return False\n",
    "        \n",
    "    def read_record(self, _id=None):\n",
    "        if _id == None:    # <-- Read all records\n",
    "            try:\n",
    "                with open(self.file_name, 'r') as file_reader:\n",
    "                    file_string = file_reader.read()   # <-- Read the whole file data to a string\n",
    "                    \n",
    "                    if len(file_string) == 0:\n",
    "                        return 0\n",
    "                    \n",
    "                    final_data = []\n",
    "                    record_chunks = file_string.split(\"\\n\\n\")\n",
    "                    for record in record_chunks[:-1]:\n",
    "                        chunk_lines = record.split(\"\\n\")\n",
    "                        final_data.append((chunk_lines[0], chunk_lines[1], chunk_lines[2]))\n",
    "                    \n",
    "                    return final_data\n",
    "            except Exception as e:\n",
    "                print(e)\n",
    "                return False\n",
    "    \n",
    "    def delete_record(self, serial_no):\n",
    "        original_data = self.read_record()\n",
    "        if original_data == 0:\n",
    "            print(\"Records File already Empty!\")\n",
    "            return True\n",
    "        elif not original_data:\n",
    "            print(\"[ERROR] Problem in Deletion!\")\n",
    "            return False\n",
    "        else:\n",
    "            with open(self.file_name, 'w') as temp_file:\n",
    "                deleted = False\n",
    "                for sr, record in enumerate(original_data):\n",
    "                    if sr == serial_no-1:\n",
    "                        continue\n",
    "                        deleted = True\n",
    "                    else:\n",
    "                        data_string = \"\\n\".join(record) + \"\\n\\n\"\n",
    "                        temp_file.write(data_string)\n",
    "            if deleted:\n",
    "                return True\n",
    "            else:\n",
    "                print(\"Specified Record not found in the file!\")\n",
    "                return False\n",
    "    \n",
    "    def update_record(self, serial_no, update_record):\n",
    "        original_data = self.read_record()\n",
    "        if original_data == 0:\n",
    "            print(\"Records File is Empty!\")\n",
    "            return True\n",
    "        elif not original_data:\n",
    "            print(\"[ERROR] Problem in Problem!\")\n",
    "            return False\n",
    "        else:\n",
    "            with open(self.file_name, 'w') as temp_file:\n",
    "                updated = False\n",
    "                for sr, record in enumerate(original_data):\n",
    "                    if sr == serial_no-1:\n",
    "                        data_string = \"\\n\".join(update_record) + \"\\n\\n\"\n",
    "                        temp_file.write(data_string)\n",
    "                        update = True\n",
    "                    else:\n",
    "                        data_string = \"\\n\".join(record) + \"\\n\\n\"\n",
    "                        temp_file.write(data_string)\n",
    "            if updated:\n",
    "                return True\n",
    "            else:\n",
    "                print(\"Specified Record not found in the file!\")\n",
    "                return False"
   ]
  },
  {
   "cell_type": "code",
   "execution_count": 8,
   "metadata": {},
   "outputs": [],
   "source": [
    "def main():\n",
    "    \n",
    "    file_name = \"Records.txt\"\n",
    "    fm = Record_manger(file_name)\n",
    "    choice = None\n",
    "    while True:\n",
    "        print(\"\\n1. Insert a record\")\n",
    "        print(\"2. View all record\")\n",
    "        print(\"3. Delete a record\")\n",
    "        print(\"4: Update a record\")\n",
    "        print(\"0: Exit\")\n",
    "\n",
    "        choice = input(\"\\nEnter your choice : \")\n",
    "\n",
    "        if choice == \"1\":\n",
    "            name = input(\"\\nEnter a name : \")\n",
    "            email = input(\"\\nEnter a email : \")\n",
    "            password = input(\"\\nEnter password : \")\n",
    "\n",
    "            if fm.insert_record([name, email, password]):\n",
    "                print(\"\\nData Inserted Successfully!\")\n",
    "            else:\n",
    "                print(\"Some Problem occured, Record insertion Aborted.\")\n",
    "\n",
    "        elif choice == \"2\":\n",
    "\n",
    "            data = fm.read_record()\n",
    "\n",
    "            if data == 0:\n",
    "                print(\"\\nNo records found!\")\n",
    "            elif not data:\n",
    "                print(\"\\n[ERROR]\")\n",
    "            else:\n",
    "                print(\"\\n:: All Records ::\\n\")\n",
    "                for index, elem in enumerate(data):\n",
    "                    print(\"\\nSerial No : \" + str(index+1))\n",
    "                    print(\"\\tName : \" + elem[0])\n",
    "                    print(\"\\tEmail : \" + elem[1])\n",
    "                    print(\"\\tPassword : \" + elem[2] + \"\\n\")\n",
    "\n",
    "        elif choice == \"3\":\n",
    "            sr = int(input(\"Enter the serial No. of record to delete : \"))\n",
    "            result = fm.delete_record(serial_no=sr)\n",
    "            if result:\n",
    "                print(\"Record Deleted Successfully!\")\n",
    "            else:\n",
    "                print(\"Deletion Failed!\")\n",
    "        elif choice == \"4\":\n",
    "            sr = int(input(\"Enter the serial No. of record to update: \"))\n",
    "            name = input(\"Updated Name :\")\n",
    "            email = input(\"Updated Email : \")\n",
    "            password = input(\"Updated Password : \")\n",
    "            result = fm.update_record(serial_no=sr, update_record=[name, email, password])\n",
    "            if result:\n",
    "                print(\"Record Updated Successfully!\")\n",
    "            else:\n",
    "                print(\"Updation Failed!\")\n",
    "        elif choice == \"0\":\n",
    "            break"
   ]
  },
  {
   "cell_type": "code",
   "execution_count": 9,
   "metadata": {},
   "outputs": [
    {
     "name": "stdout",
     "output_type": "stream",
     "text": [
      "\n",
      "1. Insert a record\n",
      "2. View all record\n",
      "3. Delete a record\n",
      "4: Update a record\n",
      "0: Exit\n",
      "\n",
      "Enter your choice : 0\n"
     ]
    }
   ],
   "source": [
    "main()"
   ]
  },
  {
   "cell_type": "code",
   "execution_count": null,
   "metadata": {},
   "outputs": [],
   "source": []
  },
  {
   "cell_type": "code",
   "execution_count": null,
   "metadata": {},
   "outputs": [],
   "source": []
  }
 ],
 "metadata": {
  "kernelspec": {
   "display_name": "Python 3",
   "language": "python",
   "name": "python3"
  },
  "language_info": {
   "codemirror_mode": {
    "name": "ipython",
    "version": 3
   },
   "file_extension": ".py",
   "mimetype": "text/x-python",
   "name": "python",
   "nbconvert_exporter": "python",
   "pygments_lexer": "ipython3",
   "version": "3.7.4"
  }
 },
 "nbformat": 4,
 "nbformat_minor": 2
}
