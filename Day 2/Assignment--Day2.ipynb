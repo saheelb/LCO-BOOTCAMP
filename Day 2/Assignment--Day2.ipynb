{
 "cells": [
  {
   "cell_type": "code",
   "execution_count": 5,
   "metadata": {},
   "outputs": [
    {
     "name": "stdout",
     "output_type": "stream",
     "text": [
      "Enter the Test string : Madam, I'm Adam !!\n",
      "It Palindrome!\n"
     ]
    }
   ],
   "source": [
    "\n",
    "input_string = input(\"Enter the Test string : \")\n",
    "input_string = input_string.lower()\n",
    "filtered_string = \"\"\n",
    "\n",
    "#filter out the space and special characters from the input string\n",
    "for i in input_string:\n",
    "    if i.isalnum():\n",
    "          filtered_string = filtered_string + i\n",
    "\n",
    "# comparing filtered string with its reversed string\n",
    "if filtered_string == filtered_string[::-1]:\n",
    "    print(\"It Palindrome!\")\n",
    "else:\n",
    "    print(\"Its not Palindrome!\")"
   ]
  },
  {
   "cell_type": "code",
   "execution_count": null,
   "metadata": {},
   "outputs": [],
   "source": []
  }
 ],
 "metadata": {
  "kernelspec": {
   "display_name": "Python 3",
   "language": "python",
   "name": "python3"
  },
  "language_info": {
   "codemirror_mode": {
    "name": "ipython",
    "version": 3
   },
   "file_extension": ".py",
   "mimetype": "text/x-python",
   "name": "python",
   "nbconvert_exporter": "python",
   "pygments_lexer": "ipython3",
   "version": "3.7.3"
  }
 },
 "nbformat": 4,
 "nbformat_minor": 2
}
