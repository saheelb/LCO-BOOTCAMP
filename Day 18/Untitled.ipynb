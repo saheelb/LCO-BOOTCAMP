{
 "cells": [
  {
   "cell_type": "code",
   "execution_count": 2,
   "metadata": {},
   "outputs": [],
   "source": [
    "import matplotlib.pyplot as mat\n",
    "import cv2\n",
    "import numpy as np\n",
    "import tkinter as tk\n",
    "\n",
    "def Image():\n",
    "    imgpath = \"\"\n",
    "    image = cv2.imread(\"\", 1)\n",
    "    \n",
    "    \n",
    "    \n",
    "root = tk.Tk()\n",
    "root.geometry(\"400x400\")\n",
    "\n",
    "btn = tk.Button(root , text = \"Border\")\n",
    "\n",
    "\n",
    "root.mainloop()\n",
    "\n"
   ]
  },
  {
   "cell_type": "code",
   "execution_count": null,
   "metadata": {},
   "outputs": [],
   "source": []
  }
 ],
 "metadata": {
  "kernelspec": {
   "display_name": "Python 3",
   "language": "python",
   "name": "python3"
  },
  "language_info": {
   "codemirror_mode": {
    "name": "ipython",
    "version": 3
   },
   "file_extension": ".py",
   "mimetype": "text/x-python",
   "name": "python",
   "nbconvert_exporter": "python",
   "pygments_lexer": "ipython3",
   "version": "3.7.3"
  }
 },
 "nbformat": 4,
 "nbformat_minor": 2
}
